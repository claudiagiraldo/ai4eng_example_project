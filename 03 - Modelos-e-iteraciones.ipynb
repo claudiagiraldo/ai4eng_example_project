{
 "cells": [
  {
   "cell_type": "markdown",
   "id": "fac6e07b",
   "metadata": {},
   "source": [
    "<a href=\"https://githubtocolab.com/rramosp/ai4eng_example_project/blob/main/03%20-%20Modelos-e-iteraciones.ipynb\" target=\"_parent\"><img src=\"https://colab.research.google.com/assets/colab-badge.svg\" alt=\"Open in Colab\"/></a>"
   ]
  },
  {
   "cell_type": "code",
   "execution_count": 1,
   "id": "6d187074",
   "metadata": {},
   "outputs": [],
   "source": [
    "import numpy as np\n",
    "import pandas as pd\n",
    "import seaborn as sns\n",
    "import matplotlib.pyplot as plt\n",
    "import missingno as msno\n",
    "#bibliotecas de machine learning\n",
    "from sklearn.linear_model import LinearRegression\n",
    "from sklearn.tree import DecisionTreeRegressor\n",
    "from sklearn.ensemble import RandomForestRegressor\n",
    "from sklearn.model_selection import cross_validate, ShuffleSplit\n",
    "\n",
    "from sklearn.model_selection import learning_curve\n",
    "from sklearn.metrics import mean_squared_error\n",
    "from sklearn.impute import SimpleImputer\n",
    "from sklearn.preprocessing import OneHotEncoder\n",
    "from sklearn.preprocessing import FunctionTransformer\n",
    "from sklearn.pipeline import Pipeline\n",
    "from sklearn.compose import ColumnTransformer\n",
    "from sklearn.preprocessing import LabelEncoder\n",
    "from sklearn import utils\n",
    "from sklearn import preprocessing\n",
    "from sklearn.model_selection import train_test_split,KFold,GroupKFold\n",
    "import lightgbm as lgb\n",
    "import gc\n",
    "\n",
    "\n",
    "import warnings\n",
    "warnings.filterwarnings('ignore')\n"
   ]
  },
  {
   "cell_type": "markdown",
   "id": "e4b2901c",
   "metadata": {},
   "source": [
    "## 1. Lectura y concatenación de los Dataset"
   ]
  },
  {
   "cell_type": "code",
   "execution_count": 2,
   "id": "2d874af3",
   "metadata": {},
   "outputs": [],
   "source": [
    "#cargar los datos\n",
    "building_met = pd.read_csv(\"building_metadata.csv\")\n",
    "train = pd.read_csv(\"train.csv\")\n",
    "weather_train = pd.read_csv(\"weather_train.csv\")"
   ]
  },
  {
   "cell_type": "code",
   "execution_count": 3,
   "id": "42807b66",
   "metadata": {},
   "outputs": [
    {
     "data": {
      "text/html": [
       "<div>\n",
       "<style scoped>\n",
       "    .dataframe tbody tr th:only-of-type {\n",
       "        vertical-align: middle;\n",
       "    }\n",
       "\n",
       "    .dataframe tbody tr th {\n",
       "        vertical-align: top;\n",
       "    }\n",
       "\n",
       "    .dataframe thead th {\n",
       "        text-align: right;\n",
       "    }\n",
       "</style>\n",
       "<table border=\"1\" class=\"dataframe\">\n",
       "  <thead>\n",
       "    <tr style=\"text-align: right;\">\n",
       "      <th></th>\n",
       "      <th>site_id</th>\n",
       "      <th>building_id</th>\n",
       "      <th>primary_use</th>\n",
       "      <th>square_feet</th>\n",
       "      <th>year_built</th>\n",
       "      <th>floor_count</th>\n",
       "    </tr>\n",
       "  </thead>\n",
       "  <tbody>\n",
       "    <tr>\n",
       "      <th>0</th>\n",
       "      <td>0</td>\n",
       "      <td>0</td>\n",
       "      <td>Education</td>\n",
       "      <td>7432</td>\n",
       "      <td>2008.0</td>\n",
       "      <td>NaN</td>\n",
       "    </tr>\n",
       "    <tr>\n",
       "      <th>1</th>\n",
       "      <td>0</td>\n",
       "      <td>1</td>\n",
       "      <td>Education</td>\n",
       "      <td>2720</td>\n",
       "      <td>2004.0</td>\n",
       "      <td>NaN</td>\n",
       "    </tr>\n",
       "    <tr>\n",
       "      <th>2</th>\n",
       "      <td>0</td>\n",
       "      <td>2</td>\n",
       "      <td>Education</td>\n",
       "      <td>5376</td>\n",
       "      <td>1991.0</td>\n",
       "      <td>NaN</td>\n",
       "    </tr>\n",
       "    <tr>\n",
       "      <th>3</th>\n",
       "      <td>0</td>\n",
       "      <td>3</td>\n",
       "      <td>Education</td>\n",
       "      <td>23685</td>\n",
       "      <td>2002.0</td>\n",
       "      <td>NaN</td>\n",
       "    </tr>\n",
       "    <tr>\n",
       "      <th>4</th>\n",
       "      <td>0</td>\n",
       "      <td>4</td>\n",
       "      <td>Education</td>\n",
       "      <td>116607</td>\n",
       "      <td>1975.0</td>\n",
       "      <td>NaN</td>\n",
       "    </tr>\n",
       "    <tr>\n",
       "      <th>...</th>\n",
       "      <td>...</td>\n",
       "      <td>...</td>\n",
       "      <td>...</td>\n",
       "      <td>...</td>\n",
       "      <td>...</td>\n",
       "      <td>...</td>\n",
       "    </tr>\n",
       "    <tr>\n",
       "      <th>1444</th>\n",
       "      <td>15</td>\n",
       "      <td>1444</td>\n",
       "      <td>Entertainment/public assembly</td>\n",
       "      <td>19619</td>\n",
       "      <td>1914.0</td>\n",
       "      <td>NaN</td>\n",
       "    </tr>\n",
       "    <tr>\n",
       "      <th>1445</th>\n",
       "      <td>15</td>\n",
       "      <td>1445</td>\n",
       "      <td>Education</td>\n",
       "      <td>4298</td>\n",
       "      <td>NaN</td>\n",
       "      <td>NaN</td>\n",
       "    </tr>\n",
       "    <tr>\n",
       "      <th>1446</th>\n",
       "      <td>15</td>\n",
       "      <td>1446</td>\n",
       "      <td>Entertainment/public assembly</td>\n",
       "      <td>11265</td>\n",
       "      <td>1997.0</td>\n",
       "      <td>NaN</td>\n",
       "    </tr>\n",
       "    <tr>\n",
       "      <th>1447</th>\n",
       "      <td>15</td>\n",
       "      <td>1447</td>\n",
       "      <td>Lodging/residential</td>\n",
       "      <td>29775</td>\n",
       "      <td>2001.0</td>\n",
       "      <td>NaN</td>\n",
       "    </tr>\n",
       "    <tr>\n",
       "      <th>1448</th>\n",
       "      <td>15</td>\n",
       "      <td>1448</td>\n",
       "      <td>Office</td>\n",
       "      <td>92271</td>\n",
       "      <td>2001.0</td>\n",
       "      <td>NaN</td>\n",
       "    </tr>\n",
       "  </tbody>\n",
       "</table>\n",
       "<p>1449 rows × 6 columns</p>\n",
       "</div>"
      ],
      "text/plain": [
       "      site_id  building_id                    primary_use  square_feet  \\\n",
       "0           0            0                      Education         7432   \n",
       "1           0            1                      Education         2720   \n",
       "2           0            2                      Education         5376   \n",
       "3           0            3                      Education        23685   \n",
       "4           0            4                      Education       116607   \n",
       "...       ...          ...                            ...          ...   \n",
       "1444       15         1444  Entertainment/public assembly        19619   \n",
       "1445       15         1445                      Education         4298   \n",
       "1446       15         1446  Entertainment/public assembly        11265   \n",
       "1447       15         1447            Lodging/residential        29775   \n",
       "1448       15         1448                         Office        92271   \n",
       "\n",
       "      year_built  floor_count  \n",
       "0         2008.0          NaN  \n",
       "1         2004.0          NaN  \n",
       "2         1991.0          NaN  \n",
       "3         2002.0          NaN  \n",
       "4         1975.0          NaN  \n",
       "...          ...          ...  \n",
       "1444      1914.0          NaN  \n",
       "1445         NaN          NaN  \n",
       "1446      1997.0          NaN  \n",
       "1447      2001.0          NaN  \n",
       "1448      2001.0          NaN  \n",
       "\n",
       "[1449 rows x 6 columns]"
      ]
     },
     "execution_count": 3,
     "metadata": {},
     "output_type": "execute_result"
    }
   ],
   "source": [
    "building_met"
   ]
  },
  {
   "cell_type": "code",
   "execution_count": 4,
   "id": "faaf28a5",
   "metadata": {},
   "outputs": [
    {
     "data": {
      "text/html": [
       "<div>\n",
       "<style scoped>\n",
       "    .dataframe tbody tr th:only-of-type {\n",
       "        vertical-align: middle;\n",
       "    }\n",
       "\n",
       "    .dataframe tbody tr th {\n",
       "        vertical-align: top;\n",
       "    }\n",
       "\n",
       "    .dataframe thead th {\n",
       "        text-align: right;\n",
       "    }\n",
       "</style>\n",
       "<table border=\"1\" class=\"dataframe\">\n",
       "  <thead>\n",
       "    <tr style=\"text-align: right;\">\n",
       "      <th></th>\n",
       "      <th>building_id</th>\n",
       "      <th>meter</th>\n",
       "      <th>timestamp</th>\n",
       "      <th>meter_reading</th>\n",
       "    </tr>\n",
       "  </thead>\n",
       "  <tbody>\n",
       "    <tr>\n",
       "      <th>0</th>\n",
       "      <td>0</td>\n",
       "      <td>0</td>\n",
       "      <td>2016-01-01 00:00:00</td>\n",
       "      <td>0.000</td>\n",
       "    </tr>\n",
       "    <tr>\n",
       "      <th>1</th>\n",
       "      <td>1</td>\n",
       "      <td>0</td>\n",
       "      <td>2016-01-01 00:00:00</td>\n",
       "      <td>0.000</td>\n",
       "    </tr>\n",
       "    <tr>\n",
       "      <th>2</th>\n",
       "      <td>2</td>\n",
       "      <td>0</td>\n",
       "      <td>2016-01-01 00:00:00</td>\n",
       "      <td>0.000</td>\n",
       "    </tr>\n",
       "    <tr>\n",
       "      <th>3</th>\n",
       "      <td>3</td>\n",
       "      <td>0</td>\n",
       "      <td>2016-01-01 00:00:00</td>\n",
       "      <td>0.000</td>\n",
       "    </tr>\n",
       "    <tr>\n",
       "      <th>4</th>\n",
       "      <td>4</td>\n",
       "      <td>0</td>\n",
       "      <td>2016-01-01 00:00:00</td>\n",
       "      <td>0.000</td>\n",
       "    </tr>\n",
       "    <tr>\n",
       "      <th>...</th>\n",
       "      <td>...</td>\n",
       "      <td>...</td>\n",
       "      <td>...</td>\n",
       "      <td>...</td>\n",
       "    </tr>\n",
       "    <tr>\n",
       "      <th>20216095</th>\n",
       "      <td>1444</td>\n",
       "      <td>0</td>\n",
       "      <td>2016-12-31 23:00:00</td>\n",
       "      <td>8.750</td>\n",
       "    </tr>\n",
       "    <tr>\n",
       "      <th>20216096</th>\n",
       "      <td>1445</td>\n",
       "      <td>0</td>\n",
       "      <td>2016-12-31 23:00:00</td>\n",
       "      <td>4.825</td>\n",
       "    </tr>\n",
       "    <tr>\n",
       "      <th>20216097</th>\n",
       "      <td>1446</td>\n",
       "      <td>0</td>\n",
       "      <td>2016-12-31 23:00:00</td>\n",
       "      <td>0.000</td>\n",
       "    </tr>\n",
       "    <tr>\n",
       "      <th>20216098</th>\n",
       "      <td>1447</td>\n",
       "      <td>0</td>\n",
       "      <td>2016-12-31 23:00:00</td>\n",
       "      <td>159.575</td>\n",
       "    </tr>\n",
       "    <tr>\n",
       "      <th>20216099</th>\n",
       "      <td>1448</td>\n",
       "      <td>0</td>\n",
       "      <td>2016-12-31 23:00:00</td>\n",
       "      <td>2.850</td>\n",
       "    </tr>\n",
       "  </tbody>\n",
       "</table>\n",
       "<p>20216100 rows × 4 columns</p>\n",
       "</div>"
      ],
      "text/plain": [
       "          building_id  meter            timestamp  meter_reading\n",
       "0                   0      0  2016-01-01 00:00:00          0.000\n",
       "1                   1      0  2016-01-01 00:00:00          0.000\n",
       "2                   2      0  2016-01-01 00:00:00          0.000\n",
       "3                   3      0  2016-01-01 00:00:00          0.000\n",
       "4                   4      0  2016-01-01 00:00:00          0.000\n",
       "...               ...    ...                  ...            ...\n",
       "20216095         1444      0  2016-12-31 23:00:00          8.750\n",
       "20216096         1445      0  2016-12-31 23:00:00          4.825\n",
       "20216097         1446      0  2016-12-31 23:00:00          0.000\n",
       "20216098         1447      0  2016-12-31 23:00:00        159.575\n",
       "20216099         1448      0  2016-12-31 23:00:00          2.850\n",
       "\n",
       "[20216100 rows x 4 columns]"
      ]
     },
     "execution_count": 4,
     "metadata": {},
     "output_type": "execute_result"
    }
   ],
   "source": [
    "train"
   ]
  },
  {
   "cell_type": "code",
   "execution_count": 5,
   "id": "c8a50406",
   "metadata": {},
   "outputs": [
    {
     "data": {
      "text/html": [
       "<div>\n",
       "<style scoped>\n",
       "    .dataframe tbody tr th:only-of-type {\n",
       "        vertical-align: middle;\n",
       "    }\n",
       "\n",
       "    .dataframe tbody tr th {\n",
       "        vertical-align: top;\n",
       "    }\n",
       "\n",
       "    .dataframe thead th {\n",
       "        text-align: right;\n",
       "    }\n",
       "</style>\n",
       "<table border=\"1\" class=\"dataframe\">\n",
       "  <thead>\n",
       "    <tr style=\"text-align: right;\">\n",
       "      <th></th>\n",
       "      <th>site_id</th>\n",
       "      <th>timestamp</th>\n",
       "      <th>air_temperature</th>\n",
       "      <th>cloud_coverage</th>\n",
       "      <th>dew_temperature</th>\n",
       "      <th>precip_depth_1_hr</th>\n",
       "      <th>sea_level_pressure</th>\n",
       "      <th>wind_direction</th>\n",
       "      <th>wind_speed</th>\n",
       "    </tr>\n",
       "  </thead>\n",
       "  <tbody>\n",
       "    <tr>\n",
       "      <th>0</th>\n",
       "      <td>0</td>\n",
       "      <td>2016-01-01 00:00:00</td>\n",
       "      <td>25.0</td>\n",
       "      <td>6.0</td>\n",
       "      <td>20.0</td>\n",
       "      <td>NaN</td>\n",
       "      <td>1019.7</td>\n",
       "      <td>0.0</td>\n",
       "      <td>0.0</td>\n",
       "    </tr>\n",
       "    <tr>\n",
       "      <th>1</th>\n",
       "      <td>0</td>\n",
       "      <td>2016-01-01 01:00:00</td>\n",
       "      <td>24.4</td>\n",
       "      <td>NaN</td>\n",
       "      <td>21.1</td>\n",
       "      <td>-1.0</td>\n",
       "      <td>1020.2</td>\n",
       "      <td>70.0</td>\n",
       "      <td>1.5</td>\n",
       "    </tr>\n",
       "    <tr>\n",
       "      <th>2</th>\n",
       "      <td>0</td>\n",
       "      <td>2016-01-01 02:00:00</td>\n",
       "      <td>22.8</td>\n",
       "      <td>2.0</td>\n",
       "      <td>21.1</td>\n",
       "      <td>0.0</td>\n",
       "      <td>1020.2</td>\n",
       "      <td>0.0</td>\n",
       "      <td>0.0</td>\n",
       "    </tr>\n",
       "    <tr>\n",
       "      <th>3</th>\n",
       "      <td>0</td>\n",
       "      <td>2016-01-01 03:00:00</td>\n",
       "      <td>21.1</td>\n",
       "      <td>2.0</td>\n",
       "      <td>20.6</td>\n",
       "      <td>0.0</td>\n",
       "      <td>1020.1</td>\n",
       "      <td>0.0</td>\n",
       "      <td>0.0</td>\n",
       "    </tr>\n",
       "    <tr>\n",
       "      <th>4</th>\n",
       "      <td>0</td>\n",
       "      <td>2016-01-01 04:00:00</td>\n",
       "      <td>20.0</td>\n",
       "      <td>2.0</td>\n",
       "      <td>20.0</td>\n",
       "      <td>-1.0</td>\n",
       "      <td>1020.0</td>\n",
       "      <td>250.0</td>\n",
       "      <td>2.6</td>\n",
       "    </tr>\n",
       "    <tr>\n",
       "      <th>...</th>\n",
       "      <td>...</td>\n",
       "      <td>...</td>\n",
       "      <td>...</td>\n",
       "      <td>...</td>\n",
       "      <td>...</td>\n",
       "      <td>...</td>\n",
       "      <td>...</td>\n",
       "      <td>...</td>\n",
       "      <td>...</td>\n",
       "    </tr>\n",
       "    <tr>\n",
       "      <th>139768</th>\n",
       "      <td>15</td>\n",
       "      <td>2016-12-31 19:00:00</td>\n",
       "      <td>3.0</td>\n",
       "      <td>NaN</td>\n",
       "      <td>-8.0</td>\n",
       "      <td>NaN</td>\n",
       "      <td>NaN</td>\n",
       "      <td>180.0</td>\n",
       "      <td>5.7</td>\n",
       "    </tr>\n",
       "    <tr>\n",
       "      <th>139769</th>\n",
       "      <td>15</td>\n",
       "      <td>2016-12-31 20:00:00</td>\n",
       "      <td>2.8</td>\n",
       "      <td>2.0</td>\n",
       "      <td>-8.9</td>\n",
       "      <td>NaN</td>\n",
       "      <td>1007.4</td>\n",
       "      <td>180.0</td>\n",
       "      <td>7.7</td>\n",
       "    </tr>\n",
       "    <tr>\n",
       "      <th>139770</th>\n",
       "      <td>15</td>\n",
       "      <td>2016-12-31 21:00:00</td>\n",
       "      <td>2.8</td>\n",
       "      <td>NaN</td>\n",
       "      <td>-7.2</td>\n",
       "      <td>NaN</td>\n",
       "      <td>1007.5</td>\n",
       "      <td>180.0</td>\n",
       "      <td>5.1</td>\n",
       "    </tr>\n",
       "    <tr>\n",
       "      <th>139771</th>\n",
       "      <td>15</td>\n",
       "      <td>2016-12-31 22:00:00</td>\n",
       "      <td>2.2</td>\n",
       "      <td>NaN</td>\n",
       "      <td>-6.7</td>\n",
       "      <td>NaN</td>\n",
       "      <td>1008.0</td>\n",
       "      <td>170.0</td>\n",
       "      <td>4.6</td>\n",
       "    </tr>\n",
       "    <tr>\n",
       "      <th>139772</th>\n",
       "      <td>15</td>\n",
       "      <td>2016-12-31 23:00:00</td>\n",
       "      <td>1.7</td>\n",
       "      <td>NaN</td>\n",
       "      <td>-5.6</td>\n",
       "      <td>-1.0</td>\n",
       "      <td>1008.5</td>\n",
       "      <td>180.0</td>\n",
       "      <td>8.8</td>\n",
       "    </tr>\n",
       "  </tbody>\n",
       "</table>\n",
       "<p>139773 rows × 9 columns</p>\n",
       "</div>"
      ],
      "text/plain": [
       "        site_id            timestamp  air_temperature  cloud_coverage  \\\n",
       "0             0  2016-01-01 00:00:00             25.0             6.0   \n",
       "1             0  2016-01-01 01:00:00             24.4             NaN   \n",
       "2             0  2016-01-01 02:00:00             22.8             2.0   \n",
       "3             0  2016-01-01 03:00:00             21.1             2.0   \n",
       "4             0  2016-01-01 04:00:00             20.0             2.0   \n",
       "...         ...                  ...              ...             ...   \n",
       "139768       15  2016-12-31 19:00:00              3.0             NaN   \n",
       "139769       15  2016-12-31 20:00:00              2.8             2.0   \n",
       "139770       15  2016-12-31 21:00:00              2.8             NaN   \n",
       "139771       15  2016-12-31 22:00:00              2.2             NaN   \n",
       "139772       15  2016-12-31 23:00:00              1.7             NaN   \n",
       "\n",
       "        dew_temperature  precip_depth_1_hr  sea_level_pressure  \\\n",
       "0                  20.0                NaN              1019.7   \n",
       "1                  21.1               -1.0              1020.2   \n",
       "2                  21.1                0.0              1020.2   \n",
       "3                  20.6                0.0              1020.1   \n",
       "4                  20.0               -1.0              1020.0   \n",
       "...                 ...                ...                 ...   \n",
       "139768             -8.0                NaN                 NaN   \n",
       "139769             -8.9                NaN              1007.4   \n",
       "139770             -7.2                NaN              1007.5   \n",
       "139771             -6.7                NaN              1008.0   \n",
       "139772             -5.6               -1.0              1008.5   \n",
       "\n",
       "        wind_direction  wind_speed  \n",
       "0                  0.0         0.0  \n",
       "1                 70.0         1.5  \n",
       "2                  0.0         0.0  \n",
       "3                  0.0         0.0  \n",
       "4                250.0         2.6  \n",
       "...                ...         ...  \n",
       "139768           180.0         5.7  \n",
       "139769           180.0         7.7  \n",
       "139770           180.0         5.1  \n",
       "139771           170.0         4.6  \n",
       "139772           180.0         8.8  \n",
       "\n",
       "[139773 rows x 9 columns]"
      ]
     },
     "execution_count": 5,
     "metadata": {},
     "output_type": "execute_result"
    }
   ],
   "source": [
    "weather_train"
   ]
  },
  {
   "cell_type": "code",
   "execution_count": 6,
   "id": "8e24ae0b",
   "metadata": {},
   "outputs": [],
   "source": [
    "#Concatenamos los datos de train con building_met\n",
    "train = train.merge(building_met,on = 'building_id',how = 'left')"
   ]
  },
  {
   "cell_type": "code",
   "execution_count": 8,
   "id": "2fa0bc67",
   "metadata": {},
   "outputs": [],
   "source": [
    "#Contatenamos los datos con el dataset weather_train\n",
    "train = train.merge(weather_train, on=['site_id','timestamp'], how='left')"
   ]
  },
  {
   "cell_type": "code",
   "execution_count": 9,
   "id": "3f51f026",
   "metadata": {},
   "outputs": [
    {
     "data": {
      "text/html": [
       "<div>\n",
       "<style scoped>\n",
       "    .dataframe tbody tr th:only-of-type {\n",
       "        vertical-align: middle;\n",
       "    }\n",
       "\n",
       "    .dataframe tbody tr th {\n",
       "        vertical-align: top;\n",
       "    }\n",
       "\n",
       "    .dataframe thead th {\n",
       "        text-align: right;\n",
       "    }\n",
       "</style>\n",
       "<table border=\"1\" class=\"dataframe\">\n",
       "  <thead>\n",
       "    <tr style=\"text-align: right;\">\n",
       "      <th></th>\n",
       "      <th>building_id</th>\n",
       "      <th>meter</th>\n",
       "      <th>timestamp</th>\n",
       "      <th>meter_reading</th>\n",
       "      <th>site_id</th>\n",
       "      <th>primary_use</th>\n",
       "      <th>square_feet</th>\n",
       "      <th>year_built</th>\n",
       "      <th>floor_count</th>\n",
       "      <th>air_temperature</th>\n",
       "      <th>cloud_coverage</th>\n",
       "      <th>dew_temperature</th>\n",
       "      <th>precip_depth_1_hr</th>\n",
       "      <th>sea_level_pressure</th>\n",
       "      <th>wind_direction</th>\n",
       "      <th>wind_speed</th>\n",
       "    </tr>\n",
       "  </thead>\n",
       "  <tbody>\n",
       "    <tr>\n",
       "      <th>0</th>\n",
       "      <td>0</td>\n",
       "      <td>0</td>\n",
       "      <td>2016-01-01 00:00:00</td>\n",
       "      <td>0.0</td>\n",
       "      <td>0</td>\n",
       "      <td>Education</td>\n",
       "      <td>7432</td>\n",
       "      <td>2008.0</td>\n",
       "      <td>NaN</td>\n",
       "      <td>25.0</td>\n",
       "      <td>6.0</td>\n",
       "      <td>20.0</td>\n",
       "      <td>NaN</td>\n",
       "      <td>1019.7</td>\n",
       "      <td>0.0</td>\n",
       "      <td>0.0</td>\n",
       "    </tr>\n",
       "    <tr>\n",
       "      <th>1</th>\n",
       "      <td>1</td>\n",
       "      <td>0</td>\n",
       "      <td>2016-01-01 00:00:00</td>\n",
       "      <td>0.0</td>\n",
       "      <td>0</td>\n",
       "      <td>Education</td>\n",
       "      <td>2720</td>\n",
       "      <td>2004.0</td>\n",
       "      <td>NaN</td>\n",
       "      <td>25.0</td>\n",
       "      <td>6.0</td>\n",
       "      <td>20.0</td>\n",
       "      <td>NaN</td>\n",
       "      <td>1019.7</td>\n",
       "      <td>0.0</td>\n",
       "      <td>0.0</td>\n",
       "    </tr>\n",
       "    <tr>\n",
       "      <th>2</th>\n",
       "      <td>2</td>\n",
       "      <td>0</td>\n",
       "      <td>2016-01-01 00:00:00</td>\n",
       "      <td>0.0</td>\n",
       "      <td>0</td>\n",
       "      <td>Education</td>\n",
       "      <td>5376</td>\n",
       "      <td>1991.0</td>\n",
       "      <td>NaN</td>\n",
       "      <td>25.0</td>\n",
       "      <td>6.0</td>\n",
       "      <td>20.0</td>\n",
       "      <td>NaN</td>\n",
       "      <td>1019.7</td>\n",
       "      <td>0.0</td>\n",
       "      <td>0.0</td>\n",
       "    </tr>\n",
       "    <tr>\n",
       "      <th>3</th>\n",
       "      <td>3</td>\n",
       "      <td>0</td>\n",
       "      <td>2016-01-01 00:00:00</td>\n",
       "      <td>0.0</td>\n",
       "      <td>0</td>\n",
       "      <td>Education</td>\n",
       "      <td>23685</td>\n",
       "      <td>2002.0</td>\n",
       "      <td>NaN</td>\n",
       "      <td>25.0</td>\n",
       "      <td>6.0</td>\n",
       "      <td>20.0</td>\n",
       "      <td>NaN</td>\n",
       "      <td>1019.7</td>\n",
       "      <td>0.0</td>\n",
       "      <td>0.0</td>\n",
       "    </tr>\n",
       "    <tr>\n",
       "      <th>4</th>\n",
       "      <td>4</td>\n",
       "      <td>0</td>\n",
       "      <td>2016-01-01 00:00:00</td>\n",
       "      <td>0.0</td>\n",
       "      <td>0</td>\n",
       "      <td>Education</td>\n",
       "      <td>116607</td>\n",
       "      <td>1975.0</td>\n",
       "      <td>NaN</td>\n",
       "      <td>25.0</td>\n",
       "      <td>6.0</td>\n",
       "      <td>20.0</td>\n",
       "      <td>NaN</td>\n",
       "      <td>1019.7</td>\n",
       "      <td>0.0</td>\n",
       "      <td>0.0</td>\n",
       "    </tr>\n",
       "  </tbody>\n",
       "</table>\n",
       "</div>"
      ],
      "text/plain": [
       "   building_id  meter            timestamp  meter_reading  site_id  \\\n",
       "0            0      0  2016-01-01 00:00:00            0.0        0   \n",
       "1            1      0  2016-01-01 00:00:00            0.0        0   \n",
       "2            2      0  2016-01-01 00:00:00            0.0        0   \n",
       "3            3      0  2016-01-01 00:00:00            0.0        0   \n",
       "4            4      0  2016-01-01 00:00:00            0.0        0   \n",
       "\n",
       "  primary_use  square_feet  year_built  floor_count  air_temperature  \\\n",
       "0   Education         7432      2008.0          NaN             25.0   \n",
       "1   Education         2720      2004.0          NaN             25.0   \n",
       "2   Education         5376      1991.0          NaN             25.0   \n",
       "3   Education        23685      2002.0          NaN             25.0   \n",
       "4   Education       116607      1975.0          NaN             25.0   \n",
       "\n",
       "   cloud_coverage  dew_temperature  precip_depth_1_hr  sea_level_pressure  \\\n",
       "0             6.0             20.0                NaN              1019.7   \n",
       "1             6.0             20.0                NaN              1019.7   \n",
       "2             6.0             20.0                NaN              1019.7   \n",
       "3             6.0             20.0                NaN              1019.7   \n",
       "4             6.0             20.0                NaN              1019.7   \n",
       "\n",
       "   wind_direction  wind_speed  \n",
       "0             0.0         0.0  \n",
       "1             0.0         0.0  \n",
       "2             0.0         0.0  \n",
       "3             0.0         0.0  \n",
       "4             0.0         0.0  "
      ]
     },
     "execution_count": 9,
     "metadata": {},
     "output_type": "execute_result"
    }
   ],
   "source": [
    "train.head()"
   ]
  },
  {
   "cell_type": "code",
   "execution_count": 10,
   "id": "a259ccef",
   "metadata": {},
   "outputs": [],
   "source": [
    "#Función para obtener información de la variable timstamp como mes, dia de la semana, etc\n",
    "def breakdown_timestamp(dataframe):\n",
    "    \n",
    "    dataframe['timestamp']= pd.to_datetime(dataframe['timestamp'])\n",
    "\n",
    "    dataframe['hour']= np.uint8(dataframe['timestamp'].dt.hour)\n",
    "    \n",
    "    dataframe['day']= np.uint16(dataframe['timestamp'].dt.day)\n",
    "    dataframe['dayofweek']= np.uint8(dataframe['timestamp'].dt.dayofweek)\n",
    "    dataframe['dayofyear']= np.uint16(dataframe['timestamp'].dt.dayofyear)\n",
    "\n",
    "    dataframe['month']= np.uint8(dataframe['timestamp'].dt.month)\n",
    "\n",
    "    dataframe['year']= np.uint16(dataframe['timestamp'].dt.year)\n",
    "    \n",
    "    return dataframe"
   ]
  },
  {
   "cell_type": "code",
   "execution_count": 11,
   "id": "bb1638f6",
   "metadata": {},
   "outputs": [],
   "source": [
    "train = breakdown_timestamp(train)"
   ]
  },
  {
   "cell_type": "code",
   "execution_count": 12,
   "id": "67b879fc",
   "metadata": {},
   "outputs": [
    {
     "data": {
      "text/html": [
       "<div>\n",
       "<style scoped>\n",
       "    .dataframe tbody tr th:only-of-type {\n",
       "        vertical-align: middle;\n",
       "    }\n",
       "\n",
       "    .dataframe tbody tr th {\n",
       "        vertical-align: top;\n",
       "    }\n",
       "\n",
       "    .dataframe thead th {\n",
       "        text-align: right;\n",
       "    }\n",
       "</style>\n",
       "<table border=\"1\" class=\"dataframe\">\n",
       "  <thead>\n",
       "    <tr style=\"text-align: right;\">\n",
       "      <th></th>\n",
       "      <th>building_id</th>\n",
       "      <th>meter</th>\n",
       "      <th>timestamp</th>\n",
       "      <th>meter_reading</th>\n",
       "      <th>site_id</th>\n",
       "      <th>primary_use</th>\n",
       "      <th>square_feet</th>\n",
       "      <th>year_built</th>\n",
       "      <th>floor_count</th>\n",
       "      <th>air_temperature</th>\n",
       "      <th>...</th>\n",
       "      <th>precip_depth_1_hr</th>\n",
       "      <th>sea_level_pressure</th>\n",
       "      <th>wind_direction</th>\n",
       "      <th>wind_speed</th>\n",
       "      <th>hour</th>\n",
       "      <th>day</th>\n",
       "      <th>dayofweek</th>\n",
       "      <th>dayofyear</th>\n",
       "      <th>month</th>\n",
       "      <th>year</th>\n",
       "    </tr>\n",
       "  </thead>\n",
       "  <tbody>\n",
       "    <tr>\n",
       "      <th>0</th>\n",
       "      <td>0</td>\n",
       "      <td>0</td>\n",
       "      <td>2016-01-01 00:00:00</td>\n",
       "      <td>0.000</td>\n",
       "      <td>0</td>\n",
       "      <td>Education</td>\n",
       "      <td>7432</td>\n",
       "      <td>2008.0</td>\n",
       "      <td>NaN</td>\n",
       "      <td>25.0</td>\n",
       "      <td>...</td>\n",
       "      <td>NaN</td>\n",
       "      <td>1019.7</td>\n",
       "      <td>0.0</td>\n",
       "      <td>0.0</td>\n",
       "      <td>0</td>\n",
       "      <td>1</td>\n",
       "      <td>4</td>\n",
       "      <td>1</td>\n",
       "      <td>1</td>\n",
       "      <td>2016</td>\n",
       "    </tr>\n",
       "    <tr>\n",
       "      <th>1</th>\n",
       "      <td>1</td>\n",
       "      <td>0</td>\n",
       "      <td>2016-01-01 00:00:00</td>\n",
       "      <td>0.000</td>\n",
       "      <td>0</td>\n",
       "      <td>Education</td>\n",
       "      <td>2720</td>\n",
       "      <td>2004.0</td>\n",
       "      <td>NaN</td>\n",
       "      <td>25.0</td>\n",
       "      <td>...</td>\n",
       "      <td>NaN</td>\n",
       "      <td>1019.7</td>\n",
       "      <td>0.0</td>\n",
       "      <td>0.0</td>\n",
       "      <td>0</td>\n",
       "      <td>1</td>\n",
       "      <td>4</td>\n",
       "      <td>1</td>\n",
       "      <td>1</td>\n",
       "      <td>2016</td>\n",
       "    </tr>\n",
       "    <tr>\n",
       "      <th>2</th>\n",
       "      <td>2</td>\n",
       "      <td>0</td>\n",
       "      <td>2016-01-01 00:00:00</td>\n",
       "      <td>0.000</td>\n",
       "      <td>0</td>\n",
       "      <td>Education</td>\n",
       "      <td>5376</td>\n",
       "      <td>1991.0</td>\n",
       "      <td>NaN</td>\n",
       "      <td>25.0</td>\n",
       "      <td>...</td>\n",
       "      <td>NaN</td>\n",
       "      <td>1019.7</td>\n",
       "      <td>0.0</td>\n",
       "      <td>0.0</td>\n",
       "      <td>0</td>\n",
       "      <td>1</td>\n",
       "      <td>4</td>\n",
       "      <td>1</td>\n",
       "      <td>1</td>\n",
       "      <td>2016</td>\n",
       "    </tr>\n",
       "    <tr>\n",
       "      <th>3</th>\n",
       "      <td>3</td>\n",
       "      <td>0</td>\n",
       "      <td>2016-01-01 00:00:00</td>\n",
       "      <td>0.000</td>\n",
       "      <td>0</td>\n",
       "      <td>Education</td>\n",
       "      <td>23685</td>\n",
       "      <td>2002.0</td>\n",
       "      <td>NaN</td>\n",
       "      <td>25.0</td>\n",
       "      <td>...</td>\n",
       "      <td>NaN</td>\n",
       "      <td>1019.7</td>\n",
       "      <td>0.0</td>\n",
       "      <td>0.0</td>\n",
       "      <td>0</td>\n",
       "      <td>1</td>\n",
       "      <td>4</td>\n",
       "      <td>1</td>\n",
       "      <td>1</td>\n",
       "      <td>2016</td>\n",
       "    </tr>\n",
       "    <tr>\n",
       "      <th>4</th>\n",
       "      <td>4</td>\n",
       "      <td>0</td>\n",
       "      <td>2016-01-01 00:00:00</td>\n",
       "      <td>0.000</td>\n",
       "      <td>0</td>\n",
       "      <td>Education</td>\n",
       "      <td>116607</td>\n",
       "      <td>1975.0</td>\n",
       "      <td>NaN</td>\n",
       "      <td>25.0</td>\n",
       "      <td>...</td>\n",
       "      <td>NaN</td>\n",
       "      <td>1019.7</td>\n",
       "      <td>0.0</td>\n",
       "      <td>0.0</td>\n",
       "      <td>0</td>\n",
       "      <td>1</td>\n",
       "      <td>4</td>\n",
       "      <td>1</td>\n",
       "      <td>1</td>\n",
       "      <td>2016</td>\n",
       "    </tr>\n",
       "    <tr>\n",
       "      <th>...</th>\n",
       "      <td>...</td>\n",
       "      <td>...</td>\n",
       "      <td>...</td>\n",
       "      <td>...</td>\n",
       "      <td>...</td>\n",
       "      <td>...</td>\n",
       "      <td>...</td>\n",
       "      <td>...</td>\n",
       "      <td>...</td>\n",
       "      <td>...</td>\n",
       "      <td>...</td>\n",
       "      <td>...</td>\n",
       "      <td>...</td>\n",
       "      <td>...</td>\n",
       "      <td>...</td>\n",
       "      <td>...</td>\n",
       "      <td>...</td>\n",
       "      <td>...</td>\n",
       "      <td>...</td>\n",
       "      <td>...</td>\n",
       "      <td>...</td>\n",
       "    </tr>\n",
       "    <tr>\n",
       "      <th>20216095</th>\n",
       "      <td>1444</td>\n",
       "      <td>0</td>\n",
       "      <td>2016-12-31 23:00:00</td>\n",
       "      <td>8.750</td>\n",
       "      <td>15</td>\n",
       "      <td>Entertainment/public assembly</td>\n",
       "      <td>19619</td>\n",
       "      <td>1914.0</td>\n",
       "      <td>NaN</td>\n",
       "      <td>1.7</td>\n",
       "      <td>...</td>\n",
       "      <td>-1.0</td>\n",
       "      <td>1008.5</td>\n",
       "      <td>180.0</td>\n",
       "      <td>8.8</td>\n",
       "      <td>23</td>\n",
       "      <td>31</td>\n",
       "      <td>5</td>\n",
       "      <td>366</td>\n",
       "      <td>12</td>\n",
       "      <td>2016</td>\n",
       "    </tr>\n",
       "    <tr>\n",
       "      <th>20216096</th>\n",
       "      <td>1445</td>\n",
       "      <td>0</td>\n",
       "      <td>2016-12-31 23:00:00</td>\n",
       "      <td>4.825</td>\n",
       "      <td>15</td>\n",
       "      <td>Education</td>\n",
       "      <td>4298</td>\n",
       "      <td>NaN</td>\n",
       "      <td>NaN</td>\n",
       "      <td>1.7</td>\n",
       "      <td>...</td>\n",
       "      <td>-1.0</td>\n",
       "      <td>1008.5</td>\n",
       "      <td>180.0</td>\n",
       "      <td>8.8</td>\n",
       "      <td>23</td>\n",
       "      <td>31</td>\n",
       "      <td>5</td>\n",
       "      <td>366</td>\n",
       "      <td>12</td>\n",
       "      <td>2016</td>\n",
       "    </tr>\n",
       "    <tr>\n",
       "      <th>20216097</th>\n",
       "      <td>1446</td>\n",
       "      <td>0</td>\n",
       "      <td>2016-12-31 23:00:00</td>\n",
       "      <td>0.000</td>\n",
       "      <td>15</td>\n",
       "      <td>Entertainment/public assembly</td>\n",
       "      <td>11265</td>\n",
       "      <td>1997.0</td>\n",
       "      <td>NaN</td>\n",
       "      <td>1.7</td>\n",
       "      <td>...</td>\n",
       "      <td>-1.0</td>\n",
       "      <td>1008.5</td>\n",
       "      <td>180.0</td>\n",
       "      <td>8.8</td>\n",
       "      <td>23</td>\n",
       "      <td>31</td>\n",
       "      <td>5</td>\n",
       "      <td>366</td>\n",
       "      <td>12</td>\n",
       "      <td>2016</td>\n",
       "    </tr>\n",
       "    <tr>\n",
       "      <th>20216098</th>\n",
       "      <td>1447</td>\n",
       "      <td>0</td>\n",
       "      <td>2016-12-31 23:00:00</td>\n",
       "      <td>159.575</td>\n",
       "      <td>15</td>\n",
       "      <td>Lodging/residential</td>\n",
       "      <td>29775</td>\n",
       "      <td>2001.0</td>\n",
       "      <td>NaN</td>\n",
       "      <td>1.7</td>\n",
       "      <td>...</td>\n",
       "      <td>-1.0</td>\n",
       "      <td>1008.5</td>\n",
       "      <td>180.0</td>\n",
       "      <td>8.8</td>\n",
       "      <td>23</td>\n",
       "      <td>31</td>\n",
       "      <td>5</td>\n",
       "      <td>366</td>\n",
       "      <td>12</td>\n",
       "      <td>2016</td>\n",
       "    </tr>\n",
       "    <tr>\n",
       "      <th>20216099</th>\n",
       "      <td>1448</td>\n",
       "      <td>0</td>\n",
       "      <td>2016-12-31 23:00:00</td>\n",
       "      <td>2.850</td>\n",
       "      <td>15</td>\n",
       "      <td>Office</td>\n",
       "      <td>92271</td>\n",
       "      <td>2001.0</td>\n",
       "      <td>NaN</td>\n",
       "      <td>1.7</td>\n",
       "      <td>...</td>\n",
       "      <td>-1.0</td>\n",
       "      <td>1008.5</td>\n",
       "      <td>180.0</td>\n",
       "      <td>8.8</td>\n",
       "      <td>23</td>\n",
       "      <td>31</td>\n",
       "      <td>5</td>\n",
       "      <td>366</td>\n",
       "      <td>12</td>\n",
       "      <td>2016</td>\n",
       "    </tr>\n",
       "  </tbody>\n",
       "</table>\n",
       "<p>20216100 rows × 22 columns</p>\n",
       "</div>"
      ],
      "text/plain": [
       "          building_id  meter           timestamp  meter_reading  site_id  \\\n",
       "0                   0      0 2016-01-01 00:00:00          0.000        0   \n",
       "1                   1      0 2016-01-01 00:00:00          0.000        0   \n",
       "2                   2      0 2016-01-01 00:00:00          0.000        0   \n",
       "3                   3      0 2016-01-01 00:00:00          0.000        0   \n",
       "4                   4      0 2016-01-01 00:00:00          0.000        0   \n",
       "...               ...    ...                 ...            ...      ...   \n",
       "20216095         1444      0 2016-12-31 23:00:00          8.750       15   \n",
       "20216096         1445      0 2016-12-31 23:00:00          4.825       15   \n",
       "20216097         1446      0 2016-12-31 23:00:00          0.000       15   \n",
       "20216098         1447      0 2016-12-31 23:00:00        159.575       15   \n",
       "20216099         1448      0 2016-12-31 23:00:00          2.850       15   \n",
       "\n",
       "                            primary_use  square_feet  year_built  floor_count  \\\n",
       "0                             Education         7432      2008.0          NaN   \n",
       "1                             Education         2720      2004.0          NaN   \n",
       "2                             Education         5376      1991.0          NaN   \n",
       "3                             Education        23685      2002.0          NaN   \n",
       "4                             Education       116607      1975.0          NaN   \n",
       "...                                 ...          ...         ...          ...   \n",
       "20216095  Entertainment/public assembly        19619      1914.0          NaN   \n",
       "20216096                      Education         4298         NaN          NaN   \n",
       "20216097  Entertainment/public assembly        11265      1997.0          NaN   \n",
       "20216098            Lodging/residential        29775      2001.0          NaN   \n",
       "20216099                         Office        92271      2001.0          NaN   \n",
       "\n",
       "          air_temperature  ...  precip_depth_1_hr  sea_level_pressure  \\\n",
       "0                    25.0  ...                NaN              1019.7   \n",
       "1                    25.0  ...                NaN              1019.7   \n",
       "2                    25.0  ...                NaN              1019.7   \n",
       "3                    25.0  ...                NaN              1019.7   \n",
       "4                    25.0  ...                NaN              1019.7   \n",
       "...                   ...  ...                ...                 ...   \n",
       "20216095              1.7  ...               -1.0              1008.5   \n",
       "20216096              1.7  ...               -1.0              1008.5   \n",
       "20216097              1.7  ...               -1.0              1008.5   \n",
       "20216098              1.7  ...               -1.0              1008.5   \n",
       "20216099              1.7  ...               -1.0              1008.5   \n",
       "\n",
       "          wind_direction  wind_speed  hour  day  dayofweek  dayofyear  month  \\\n",
       "0                    0.0         0.0     0    1          4          1      1   \n",
       "1                    0.0         0.0     0    1          4          1      1   \n",
       "2                    0.0         0.0     0    1          4          1      1   \n",
       "3                    0.0         0.0     0    1          4          1      1   \n",
       "4                    0.0         0.0     0    1          4          1      1   \n",
       "...                  ...         ...   ...  ...        ...        ...    ...   \n",
       "20216095           180.0         8.8    23   31          5        366     12   \n",
       "20216096           180.0         8.8    23   31          5        366     12   \n",
       "20216097           180.0         8.8    23   31          5        366     12   \n",
       "20216098           180.0         8.8    23   31          5        366     12   \n",
       "20216099           180.0         8.8    23   31          5        366     12   \n",
       "\n",
       "          year  \n",
       "0         2016  \n",
       "1         2016  \n",
       "2         2016  \n",
       "3         2016  \n",
       "4         2016  \n",
       "...        ...  \n",
       "20216095  2016  \n",
       "20216096  2016  \n",
       "20216097  2016  \n",
       "20216098  2016  \n",
       "20216099  2016  \n",
       "\n",
       "[20216100 rows x 22 columns]"
      ]
     },
     "execution_count": 12,
     "metadata": {},
     "output_type": "execute_result"
    }
   ],
   "source": [
    "train"
   ]
  },
  {
   "cell_type": "markdown",
   "id": "36f58121",
   "metadata": {},
   "source": [
    "## 4. Tratamiento de datos"
   ]
  },
  {
   "cell_type": "markdown",
   "id": "f20cf175",
   "metadata": {},
   "source": [
    "#### 4.1. Remoción de las lecturas cero de la variable objetivo\n",
    "\n",
    "Como se se mencionó anteriormente al analizar la variable objetivo, se observó que existes muchas lecturas de valor cero para la variable objetivo (meter_reading). Debido a esto se opta por eliminar las filas que contengan un valor cero para la variable objetivo ya que esto indica que no se tiene una disponibilidad de la medición y estos no podrían utilizarse para entrenar."
   ]
  },
  {
   "cell_type": "code",
   "execution_count": 31,
   "id": "5c93d9b5",
   "metadata": {},
   "outputs": [
    {
     "name": "stdout",
     "output_type": "stream",
     "text": [
      "Nuevo tamaño de los datos:  (18342124, 22)\n"
     ]
    }
   ],
   "source": [
    "meter_readings_zero = list(train[train.meter_reading == 0].index) #lista con los indices de los valores que tienen lecturas 0\n",
    "train.drop(meter_readings_zero, axis = 0, inplace = True) #eliminar filas con lecturas cero en la variable objetivo\n",
    "print('Nuevo tamaño de los datos: ',train.shape)"
   ]
  },
  {
   "cell_type": "markdown",
   "id": "b2cfce4d",
   "metadata": {},
   "source": [
    "#### 4.2. Eliminación de las columnas con muchos datos faltantes\n",
    "\n",
    "Del análisis exploratorio de las variables, se encontró que existen variables que contienen gran cantidad de datos faltantes. En este caso se optará por eliminar las columnas en las que los datos faltantes representen el 50% o más de la totalidad de los datos. Siguiendo este criterio se eliminan las variables \"floor_count\", \"year_built\"."
   ]
  },
  {
   "cell_type": "code",
   "execution_count": 32,
   "id": "d4087744",
   "metadata": {},
   "outputs": [
    {
     "name": "stdout",
     "output_type": "stream",
     "text": [
      "New Shape of Train Data: (18342124, 20)\n"
     ]
    }
   ],
   "source": [
    "criterio = len(train) * 0.5 #criterio para eliminar la columna (50% de las filas que se tienen)\n",
    "train.dropna(axis=1, thresh = criterio, inplace = True) #eliminación de las columnas con 50% o más de datos faltantes\n",
    "print('New Shape of Train Data:',train.shape)"
   ]
  },
  {
   "cell_type": "markdown",
   "id": "ea13bd18",
   "metadata": {},
   "source": [
    "#### 4.4. Relleno de datos faltantes\n",
    "Anteriormente se optó por eliminar las columnas que poseian el 50% o más en datos en datos faltantes, sin embargo, aun quedan variables con datos faltantes en el dataset. Para estas columnas se rellenaran los valores faltantes al reemplazarlos por la media de los valores con los que se cuenta para cada columna."
   ]
  },
  {
   "cell_type": "code",
   "execution_count": 33,
   "id": "5df0ca10",
   "metadata": {},
   "outputs": [],
   "source": [
    "train['cloud_coverage'].fillna(train.cloud_coverage.median(), inplace=True)\n",
    "train['sea_level_pressure'].fillna(train.sea_level_pressure.median(), inplace=True)\n",
    "train['precip_depth_1_hr'].fillna(train.precip_depth_1_hr.median(), inplace=True)\n",
    "train['wind_direction'].fillna(train.wind_direction.median(), inplace=True)\n",
    "train['wind_speed'].fillna(train.wind_speed.median(), inplace=True)\n",
    "train['dew_temperature'].fillna(train.dew_temperature.median(), inplace=True)\n",
    "train['air_temperature'].fillna(train.air_temperature.median(), inplace=True)"
   ]
  },
  {
   "cell_type": "code",
   "execution_count": 34,
   "id": "6765c57b",
   "metadata": {},
   "outputs": [
    {
     "data": {
      "text/plain": [
       "building_id           0\n",
       "meter                 0\n",
       "timestamp             0\n",
       "meter_reading         0\n",
       "site_id               0\n",
       "primary_use           0\n",
       "square_feet           0\n",
       "air_temperature       0\n",
       "cloud_coverage        0\n",
       "dew_temperature       0\n",
       "precip_depth_1_hr     0\n",
       "sea_level_pressure    0\n",
       "wind_direction        0\n",
       "wind_speed            0\n",
       "hour                  0\n",
       "day                   0\n",
       "dayofweek             0\n",
       "dayofyear             0\n",
       "month                 0\n",
       "year                  0\n",
       "dtype: int64"
      ]
     },
     "execution_count": 34,
     "metadata": {},
     "output_type": "execute_result"
    }
   ],
   "source": [
    "train.isnull().sum()"
   ]
  },
  {
   "cell_type": "markdown",
   "id": "b587982f",
   "metadata": {},
   "source": [
    "#### 4.4. Adición de la estación y variable para saber si esta de día o de noche\n",
    "\n",
    "Para este análisis se encuentra interesante el hecho de saber de que estación del año es el cada dato, ya que normalmente en sistemas que ver con calentamiento de agua, o enfriadores de agua para sistemas de aire acondicionado, o sistemas de vapor, la estación del año puede influir en la carga que se impone en los sistemas aumentando o disminuyendo su consumo. También se puede tener que ciertas aplicaciones sean mas usadas en una estación que otra, como por ejemplo el uso del agua caliente en verano, el cual podría reducirse en esta estación. Además de esto la carga también tiene variaciones en el día o noche, y los consumos pueden presentar una variación dependiendo de esto."
   ]
  },
  {
   "cell_type": "code",
   "execution_count": 35,
   "id": "842e3778",
   "metadata": {},
   "outputs": [],
   "source": [
    "# Adicionamos la estación del año, lo cual puede mejorar el análisis\n",
    "\n",
    "train['season'] = train['timestamp'].apply(lambda x: 'Spring' if x.month==3 or x.month==4 or x.month==5 else \n",
    "                                                  'Summer' if x.month==6 or x.month==7 or x.month==8 else \n",
    "                                                  'Autumn' if x.month==9 or x.month==10 or x.month==11 else \n",
    "                                                  'Winter')\n",
    "\n",
    "#Adicionamos una variable para saber si es de día, 1 es de día, 0 es de noche\n",
    "train['isDayTime'] = train['timestamp'].apply(lambda x: 1 if x.hour >=6 and x.hour <=18 else 0)"
   ]
  },
  {
   "cell_type": "code",
   "execution_count": 36,
   "id": "f0f50c2c",
   "metadata": {},
   "outputs": [
    {
     "data": {
      "text/html": [
       "<div>\n",
       "<style scoped>\n",
       "    .dataframe tbody tr th:only-of-type {\n",
       "        vertical-align: middle;\n",
       "    }\n",
       "\n",
       "    .dataframe tbody tr th {\n",
       "        vertical-align: top;\n",
       "    }\n",
       "\n",
       "    .dataframe thead th {\n",
       "        text-align: right;\n",
       "    }\n",
       "</style>\n",
       "<table border=\"1\" class=\"dataframe\">\n",
       "  <thead>\n",
       "    <tr style=\"text-align: right;\">\n",
       "      <th></th>\n",
       "      <th>building_id</th>\n",
       "      <th>meter</th>\n",
       "      <th>timestamp</th>\n",
       "      <th>meter_reading</th>\n",
       "      <th>site_id</th>\n",
       "      <th>primary_use</th>\n",
       "      <th>square_feet</th>\n",
       "      <th>air_temperature</th>\n",
       "      <th>cloud_coverage</th>\n",
       "      <th>dew_temperature</th>\n",
       "      <th>...</th>\n",
       "      <th>wind_direction</th>\n",
       "      <th>wind_speed</th>\n",
       "      <th>hour</th>\n",
       "      <th>day</th>\n",
       "      <th>dayofweek</th>\n",
       "      <th>dayofyear</th>\n",
       "      <th>month</th>\n",
       "      <th>year</th>\n",
       "      <th>season</th>\n",
       "      <th>isDayTime</th>\n",
       "    </tr>\n",
       "  </thead>\n",
       "  <tbody>\n",
       "    <tr>\n",
       "      <th>45</th>\n",
       "      <td>46</td>\n",
       "      <td>0</td>\n",
       "      <td>2016-01-01</td>\n",
       "      <td>3.993413</td>\n",
       "      <td>0</td>\n",
       "      <td>Retail</td>\n",
       "      <td>9.110078</td>\n",
       "      <td>25.0</td>\n",
       "      <td>6.0</td>\n",
       "      <td>20.0</td>\n",
       "      <td>...</td>\n",
       "      <td>0.0</td>\n",
       "      <td>0.0</td>\n",
       "      <td>0</td>\n",
       "      <td>1</td>\n",
       "      <td>4</td>\n",
       "      <td>1</td>\n",
       "      <td>1</td>\n",
       "      <td>2016</td>\n",
       "      <td>Winter</td>\n",
       "      <td>0</td>\n",
       "    </tr>\n",
       "    <tr>\n",
       "      <th>72</th>\n",
       "      <td>74</td>\n",
       "      <td>0</td>\n",
       "      <td>2016-01-01</td>\n",
       "      <td>3.784219</td>\n",
       "      <td>0</td>\n",
       "      <td>Parking</td>\n",
       "      <td>12.867830</td>\n",
       "      <td>25.0</td>\n",
       "      <td>6.0</td>\n",
       "      <td>20.0</td>\n",
       "      <td>...</td>\n",
       "      <td>0.0</td>\n",
       "      <td>0.0</td>\n",
       "      <td>0</td>\n",
       "      <td>1</td>\n",
       "      <td>4</td>\n",
       "      <td>1</td>\n",
       "      <td>1</td>\n",
       "      <td>2016</td>\n",
       "      <td>Winter</td>\n",
       "      <td>0</td>\n",
       "    </tr>\n",
       "    <tr>\n",
       "      <th>91</th>\n",
       "      <td>93</td>\n",
       "      <td>0</td>\n",
       "      <td>2016-01-01</td>\n",
       "      <td>3.978196</td>\n",
       "      <td>0</td>\n",
       "      <td>Office</td>\n",
       "      <td>10.415443</td>\n",
       "      <td>25.0</td>\n",
       "      <td>6.0</td>\n",
       "      <td>20.0</td>\n",
       "      <td>...</td>\n",
       "      <td>0.0</td>\n",
       "      <td>0.0</td>\n",
       "      <td>0</td>\n",
       "      <td>1</td>\n",
       "      <td>4</td>\n",
       "      <td>1</td>\n",
       "      <td>1</td>\n",
       "      <td>2016</td>\n",
       "      <td>Winter</td>\n",
       "      <td>0</td>\n",
       "    </tr>\n",
       "    <tr>\n",
       "      <th>103</th>\n",
       "      <td>105</td>\n",
       "      <td>0</td>\n",
       "      <td>2016-01-01</td>\n",
       "      <td>3.190624</td>\n",
       "      <td>1</td>\n",
       "      <td>Education</td>\n",
       "      <td>10.832181</td>\n",
       "      <td>3.8</td>\n",
       "      <td>0.0</td>\n",
       "      <td>2.4</td>\n",
       "      <td>...</td>\n",
       "      <td>240.0</td>\n",
       "      <td>3.1</td>\n",
       "      <td>0</td>\n",
       "      <td>1</td>\n",
       "      <td>4</td>\n",
       "      <td>1</td>\n",
       "      <td>1</td>\n",
       "      <td>2016</td>\n",
       "      <td>Winter</td>\n",
       "      <td>0</td>\n",
       "    </tr>\n",
       "    <tr>\n",
       "      <th>104</th>\n",
       "      <td>106</td>\n",
       "      <td>0</td>\n",
       "      <td>2016-01-01</td>\n",
       "      <td>0.318163</td>\n",
       "      <td>1</td>\n",
       "      <td>Education</td>\n",
       "      <td>8.589514</td>\n",
       "      <td>3.8</td>\n",
       "      <td>0.0</td>\n",
       "      <td>2.4</td>\n",
       "      <td>...</td>\n",
       "      <td>240.0</td>\n",
       "      <td>3.1</td>\n",
       "      <td>0</td>\n",
       "      <td>1</td>\n",
       "      <td>4</td>\n",
       "      <td>1</td>\n",
       "      <td>1</td>\n",
       "      <td>2016</td>\n",
       "      <td>Winter</td>\n",
       "      <td>0</td>\n",
       "    </tr>\n",
       "  </tbody>\n",
       "</table>\n",
       "<p>5 rows × 22 columns</p>\n",
       "</div>"
      ],
      "text/plain": [
       "     building_id  meter  timestamp  meter_reading  site_id primary_use  \\\n",
       "45            46      0 2016-01-01       3.993413        0      Retail   \n",
       "72            74      0 2016-01-01       3.784219        0     Parking   \n",
       "91            93      0 2016-01-01       3.978196        0      Office   \n",
       "103          105      0 2016-01-01       3.190624        1   Education   \n",
       "104          106      0 2016-01-01       0.318163        1   Education   \n",
       "\n",
       "     square_feet  air_temperature  cloud_coverage  dew_temperature  ...  \\\n",
       "45      9.110078             25.0             6.0             20.0  ...   \n",
       "72     12.867830             25.0             6.0             20.0  ...   \n",
       "91     10.415443             25.0             6.0             20.0  ...   \n",
       "103    10.832181              3.8             0.0              2.4  ...   \n",
       "104     8.589514              3.8             0.0              2.4  ...   \n",
       "\n",
       "     wind_direction  wind_speed  hour  day  dayofweek  dayofyear  month  year  \\\n",
       "45              0.0         0.0     0    1          4          1      1  2016   \n",
       "72              0.0         0.0     0    1          4          1      1  2016   \n",
       "91              0.0         0.0     0    1          4          1      1  2016   \n",
       "103           240.0         3.1     0    1          4          1      1  2016   \n",
       "104           240.0         3.1     0    1          4          1      1  2016   \n",
       "\n",
       "     season  isDayTime  \n",
       "45   Winter          0  \n",
       "72   Winter          0  \n",
       "91   Winter          0  \n",
       "103  Winter          0  \n",
       "104  Winter          0  \n",
       "\n",
       "[5 rows x 22 columns]"
      ]
     },
     "execution_count": 36,
     "metadata": {},
     "output_type": "execute_result"
    }
   ],
   "source": [
    "train.head()"
   ]
  },
  {
   "cell_type": "markdown",
   "id": "a077f1ea",
   "metadata": {},
   "source": [
    "#### 4.5. Transformación de las variables categoricas\n",
    "Las variables categoricas, como lo son en este caso \"primary_use\" y \"season\" pueden ser utiles a la hora de realizar el análisis, sin embargo, no pueden usadas en la forma categorica, por lo que se deben convertir en variables numericas que si podamos utilzar para entrenar un modelo."
   ]
  },
  {
   "cell_type": "code",
   "execution_count": 37,
   "id": "d86f0647",
   "metadata": {},
   "outputs": [
    {
     "name": "stdout",
     "output_type": "stream",
     "text": [
      "<class 'pandas.core.frame.DataFrame'>\n",
      "Int64Index: 18342124 entries, 45 to 20216099\n",
      "Data columns (total 22 columns):\n",
      " #   Column              Dtype         \n",
      "---  ------              -----         \n",
      " 0   building_id         int64         \n",
      " 1   meter               int64         \n",
      " 2   timestamp           datetime64[ns]\n",
      " 3   meter_reading       float64       \n",
      " 4   site_id             int64         \n",
      " 5   primary_use         int32         \n",
      " 6   square_feet         float64       \n",
      " 7   air_temperature     float64       \n",
      " 8   cloud_coverage      float64       \n",
      " 9   dew_temperature     float64       \n",
      " 10  precip_depth_1_hr   float64       \n",
      " 11  sea_level_pressure  float64       \n",
      " 12  wind_direction      float64       \n",
      " 13  wind_speed          float64       \n",
      " 14  hour                uint8         \n",
      " 15  day                 uint16        \n",
      " 16  dayofweek           uint8         \n",
      " 17  dayofyear           uint16        \n",
      " 18  month               uint8         \n",
      " 19  year                uint16        \n",
      " 20  season              int32         \n",
      " 21  isDayTime           int64         \n",
      "dtypes: datetime64[ns](1), float64(9), int32(2), int64(4), uint16(3), uint8(3)\n",
      "memory usage: 2.3 GB\n",
      "None\n"
     ]
    }
   ],
   "source": [
    "var_categoricas = ['primary_use', 'season']\n",
    "encoder = preprocessing.LabelEncoder()\n",
    "\n",
    "for i in var_categoricas:\n",
    "    \n",
    "    train[i] = encoder.fit_transform(train[i])\n",
    "    \n",
    "print (train.info())"
   ]
  },
  {
   "cell_type": "code",
   "execution_count": 38,
   "id": "b6ff147c",
   "metadata": {},
   "outputs": [],
   "source": [
    "train = train.drop(['timestamp'],axis=1) #eliminamos la columna timestamp ya que no se utilizará"
   ]
  },
  {
   "cell_type": "code",
   "execution_count": 39,
   "id": "a2a8e3ff",
   "metadata": {},
   "outputs": [
    {
     "data": {
      "text/html": [
       "<div>\n",
       "<style scoped>\n",
       "    .dataframe tbody tr th:only-of-type {\n",
       "        vertical-align: middle;\n",
       "    }\n",
       "\n",
       "    .dataframe tbody tr th {\n",
       "        vertical-align: top;\n",
       "    }\n",
       "\n",
       "    .dataframe thead th {\n",
       "        text-align: right;\n",
       "    }\n",
       "</style>\n",
       "<table border=\"1\" class=\"dataframe\">\n",
       "  <thead>\n",
       "    <tr style=\"text-align: right;\">\n",
       "      <th></th>\n",
       "      <th>building_id</th>\n",
       "      <th>meter</th>\n",
       "      <th>meter_reading</th>\n",
       "      <th>site_id</th>\n",
       "      <th>primary_use</th>\n",
       "      <th>square_feet</th>\n",
       "      <th>air_temperature</th>\n",
       "      <th>cloud_coverage</th>\n",
       "      <th>dew_temperature</th>\n",
       "      <th>precip_depth_1_hr</th>\n",
       "      <th>...</th>\n",
       "      <th>wind_direction</th>\n",
       "      <th>wind_speed</th>\n",
       "      <th>hour</th>\n",
       "      <th>day</th>\n",
       "      <th>dayofweek</th>\n",
       "      <th>dayofyear</th>\n",
       "      <th>month</th>\n",
       "      <th>year</th>\n",
       "      <th>season</th>\n",
       "      <th>isDayTime</th>\n",
       "    </tr>\n",
       "  </thead>\n",
       "  <tbody>\n",
       "    <tr>\n",
       "      <th>45</th>\n",
       "      <td>46</td>\n",
       "      <td>0</td>\n",
       "      <td>3.993413</td>\n",
       "      <td>0</td>\n",
       "      <td>11</td>\n",
       "      <td>9.110078</td>\n",
       "      <td>25.0</td>\n",
       "      <td>6.0</td>\n",
       "      <td>20.0</td>\n",
       "      <td>0.0</td>\n",
       "      <td>...</td>\n",
       "      <td>0.0</td>\n",
       "      <td>0.0</td>\n",
       "      <td>0</td>\n",
       "      <td>1</td>\n",
       "      <td>4</td>\n",
       "      <td>1</td>\n",
       "      <td>1</td>\n",
       "      <td>2016</td>\n",
       "      <td>3</td>\n",
       "      <td>0</td>\n",
       "    </tr>\n",
       "    <tr>\n",
       "      <th>72</th>\n",
       "      <td>74</td>\n",
       "      <td>0</td>\n",
       "      <td>3.784219</td>\n",
       "      <td>0</td>\n",
       "      <td>8</td>\n",
       "      <td>12.867830</td>\n",
       "      <td>25.0</td>\n",
       "      <td>6.0</td>\n",
       "      <td>20.0</td>\n",
       "      <td>0.0</td>\n",
       "      <td>...</td>\n",
       "      <td>0.0</td>\n",
       "      <td>0.0</td>\n",
       "      <td>0</td>\n",
       "      <td>1</td>\n",
       "      <td>4</td>\n",
       "      <td>1</td>\n",
       "      <td>1</td>\n",
       "      <td>2016</td>\n",
       "      <td>3</td>\n",
       "      <td>0</td>\n",
       "    </tr>\n",
       "    <tr>\n",
       "      <th>91</th>\n",
       "      <td>93</td>\n",
       "      <td>0</td>\n",
       "      <td>3.978196</td>\n",
       "      <td>0</td>\n",
       "      <td>6</td>\n",
       "      <td>10.415443</td>\n",
       "      <td>25.0</td>\n",
       "      <td>6.0</td>\n",
       "      <td>20.0</td>\n",
       "      <td>0.0</td>\n",
       "      <td>...</td>\n",
       "      <td>0.0</td>\n",
       "      <td>0.0</td>\n",
       "      <td>0</td>\n",
       "      <td>1</td>\n",
       "      <td>4</td>\n",
       "      <td>1</td>\n",
       "      <td>1</td>\n",
       "      <td>2016</td>\n",
       "      <td>3</td>\n",
       "      <td>0</td>\n",
       "    </tr>\n",
       "    <tr>\n",
       "      <th>103</th>\n",
       "      <td>105</td>\n",
       "      <td>0</td>\n",
       "      <td>3.190624</td>\n",
       "      <td>1</td>\n",
       "      <td>0</td>\n",
       "      <td>10.832181</td>\n",
       "      <td>3.8</td>\n",
       "      <td>0.0</td>\n",
       "      <td>2.4</td>\n",
       "      <td>0.0</td>\n",
       "      <td>...</td>\n",
       "      <td>240.0</td>\n",
       "      <td>3.1</td>\n",
       "      <td>0</td>\n",
       "      <td>1</td>\n",
       "      <td>4</td>\n",
       "      <td>1</td>\n",
       "      <td>1</td>\n",
       "      <td>2016</td>\n",
       "      <td>3</td>\n",
       "      <td>0</td>\n",
       "    </tr>\n",
       "    <tr>\n",
       "      <th>104</th>\n",
       "      <td>106</td>\n",
       "      <td>0</td>\n",
       "      <td>0.318163</td>\n",
       "      <td>1</td>\n",
       "      <td>0</td>\n",
       "      <td>8.589514</td>\n",
       "      <td>3.8</td>\n",
       "      <td>0.0</td>\n",
       "      <td>2.4</td>\n",
       "      <td>0.0</td>\n",
       "      <td>...</td>\n",
       "      <td>240.0</td>\n",
       "      <td>3.1</td>\n",
       "      <td>0</td>\n",
       "      <td>1</td>\n",
       "      <td>4</td>\n",
       "      <td>1</td>\n",
       "      <td>1</td>\n",
       "      <td>2016</td>\n",
       "      <td>3</td>\n",
       "      <td>0</td>\n",
       "    </tr>\n",
       "  </tbody>\n",
       "</table>\n",
       "<p>5 rows × 21 columns</p>\n",
       "</div>"
      ],
      "text/plain": [
       "     building_id  meter  meter_reading  site_id  primary_use  square_feet  \\\n",
       "45            46      0       3.993413        0           11     9.110078   \n",
       "72            74      0       3.784219        0            8    12.867830   \n",
       "91            93      0       3.978196        0            6    10.415443   \n",
       "103          105      0       3.190624        1            0    10.832181   \n",
       "104          106      0       0.318163        1            0     8.589514   \n",
       "\n",
       "     air_temperature  cloud_coverage  dew_temperature  precip_depth_1_hr  ...  \\\n",
       "45              25.0             6.0             20.0                0.0  ...   \n",
       "72              25.0             6.0             20.0                0.0  ...   \n",
       "91              25.0             6.0             20.0                0.0  ...   \n",
       "103              3.8             0.0              2.4                0.0  ...   \n",
       "104              3.8             0.0              2.4                0.0  ...   \n",
       "\n",
       "     wind_direction  wind_speed  hour  day  dayofweek  dayofyear  month  year  \\\n",
       "45              0.0         0.0     0    1          4          1      1  2016   \n",
       "72              0.0         0.0     0    1          4          1      1  2016   \n",
       "91              0.0         0.0     0    1          4          1      1  2016   \n",
       "103           240.0         3.1     0    1          4          1      1  2016   \n",
       "104           240.0         3.1     0    1          4          1      1  2016   \n",
       "\n",
       "     season  isDayTime  \n",
       "45        3          0  \n",
       "72        3          0  \n",
       "91        3          0  \n",
       "103       3          0  \n",
       "104       3          0  \n",
       "\n",
       "[5 rows x 21 columns]"
      ]
     },
     "execution_count": 39,
     "metadata": {},
     "output_type": "execute_result"
    }
   ],
   "source": [
    "train.head()"
   ]
  },
  {
   "cell_type": "code",
   "execution_count": null,
   "id": "a4ec28e5",
   "metadata": {},
   "outputs": [],
   "source": []
  },
  {
   "cell_type": "markdown",
   "id": "1aa34ba4",
   "metadata": {},
   "source": [
    "## 5. Métodos Supervisados\n"
   ]
  },
  {
   "cell_type": "markdown",
   "id": "c4465c56",
   "metadata": {},
   "source": [
    "#### 5.1. Selección de Modelos"
   ]
  },
  {
   "cell_type": "markdown",
   "id": "a09ff2d0",
   "metadata": {},
   "source": [
    "##### Métrica: \n",
    "La métrica para medir el desempeño de los modelos es el RMSLE (Root Mean Squared Logarithmic Error), sin embargo, ya que aplicamos una transformación logarítmica sobre la variable objetivo (meter_reading), podemos usar directamente el RMSE(Root Mean Squared Error) para obtener el valor de la métrica."
   ]
  },
  {
   "cell_type": "code",
   "execution_count": 45,
   "id": "47debb6c",
   "metadata": {},
   "outputs": [],
   "source": [
    "#Función para reportar el error del modelo\n",
    "def report_cv_score(z):\n",
    "    \n",
    "    #RMSE en prueba y entrenamiento\n",
    "    lr_ts_score = z['test_score']*(-1)\n",
    "    lr_tr_score = z['train_score']*(-1)\n",
    "    lin_rmse_ts = np.sqrt(lr_ts_score)\n",
    "    lin_rmse_tr = np.sqrt(lr_tr_score)\n",
    "    print(\"RMSLE Test: \", \"{:.5f}\".format(np.mean(lin_rmse_ts)), \"(±\", \"{:.8f}\".format(np.std(lin_rmse_ts)),\")\")\n",
    "    print(\"RMSLE Train: \", \"{:.5f}\".format(np.mean(lin_rmse_tr)), \"(±\", \"{:.8f}\".format(np.std(lin_rmse_tr)),\")\")"
   ]
  },
  {
   "cell_type": "code",
   "execution_count": 46,
   "id": "cf533258",
   "metadata": {},
   "outputs": [],
   "source": [
    "#Función para calcular el RMSLE de los modelos implementados\n",
    "def RMSLE(y_actual, y_pred):\n",
    "    \n",
    "    return np.sqrt(mean_squared_error(y_actual, y_pred))"
   ]
  },
  {
   "cell_type": "code",
   "execution_count": 41,
   "id": "ee844b94",
   "metadata": {},
   "outputs": [],
   "source": [
    "X = train.drop(['meter_reading'],axis = 1)\n",
    "y = train['meter_reading'].values"
   ]
  },
  {
   "cell_type": "code",
   "execution_count": 45,
   "id": "7cc7cfb1",
   "metadata": {},
   "outputs": [],
   "source": [
    "#eliminamos las variables con menos correlación según el análisis realizado\n",
    "X = X.drop(['dayofyear','month','hour','dew_temperature','day','precip_depth_1_hr','air_temperature',\n",
    "                           'sea_level_pressure','wind_direction','dayofweek','wind_speed','cloud_coverage','year'],axis = 1)"
   ]
  },
  {
   "cell_type": "code",
   "execution_count": 47,
   "id": "467f437b",
   "metadata": {},
   "outputs": [
    {
     "name": "stdout",
     "output_type": "stream",
     "text": [
      "(18342124, 7) (18342124,)\n",
      "test size 0.30\n",
      "val size is 0.43 (relative to 0.70) \n",
      "(12839486, 7) (5502638, 7)\n"
     ]
    }
   ],
   "source": [
    "#--------Partición de los datos------------\n",
    "\n",
    "from sklearn.model_selection import train_test_split\n",
    "\n",
    "test_size = 0.3\n",
    "val_size  = test_size/(1-test_size) # Elementos de validación\n",
    "\n",
    "\n",
    "print (X.shape, y.shape)\n",
    "print (\"test size %.2f\"%test_size)\n",
    "print (\"val size is %.2f (relative to %.2f) \"%(val_size, 1-test_size))\n",
    "\n",
    "#Xtv, ytv son los datos que se usan para entrenar el modelo\n",
    "#Xts, yts son los datos que se usan para probar el modelo (solo se usan para el testeo final de los modelos que se seleccionen)\n",
    "Xtv, Xts, ytv, yts = train_test_split(X, y, test_size=test_size)\n",
    "print (Xtv.shape, Xts.shape)"
   ]
  },
  {
   "cell_type": "code",
   "execution_count": 43,
   "id": "d9466b79",
   "metadata": {},
   "outputs": [],
   "source": [
    "estimator1 = LinearRegression()\n",
    "estimator2 = DecisionTreeRegressor(max_depth=5)\n",
    "estimator3 = RandomForestRegressor(n_estimators = 2,max_depth = 5)"
   ]
  },
  {
   "cell_type": "code",
   "execution_count": 49,
   "id": "e5b5ebb3",
   "metadata": {},
   "outputs": [
    {
     "name": "stdout",
     "output_type": "stream",
     "text": [
      "---------\n",
      "RMSLE Test:  1.37496 (± 0.00055959 )\n",
      "RMSLE Train:  1.37571 (± 0.00041960 )\n",
      "---------\n",
      "RMSLE Test:  1.26651 (± 0.00036441 )\n",
      "RMSLE Train:  1.26654 (± 0.00027286 )\n",
      "---------\n",
      "RMSLE Test:  1.26123 (± 0.00626660 )\n",
      "RMSLE Train:  1.26141 (± 0.00636801 )\n",
      "Seleccionado:  2\n",
      "\n",
      " Mejor modelo: \n",
      "RandomForestRegressor(max_depth=5, n_estimators=2)\n"
     ]
    }
   ],
   "source": [
    "#Selección de modelos\n",
    "\n",
    "zscores = []\n",
    "estimators = [estimator1, estimator2, estimator3]\n",
    "for estimator in estimators:\n",
    "    print(\"---------\")\n",
    "    z = cross_validate(estimator, Xtv, ytv, return_train_score=True, return_estimator=False,\n",
    "                       scoring=\"neg_mean_squared_error\", cv=ShuffleSplit(n_splits=10, test_size=val_size))\n",
    "    report_cv_score(z)\n",
    "    zscores.append(np.mean(np.sqrt(z['test_score']*(-1))))\n",
    "best = np.argmin(zscores)\n",
    "print (\"Seleccionado: \", best)\n",
    "best_estimator = estimators[best]\n",
    "print (\"\\n Mejor modelo: \")\n",
    "print (best_estimator)"
   ]
  },
  {
   "cell_type": "markdown",
   "id": "477d1170",
   "metadata": {},
   "source": [
    "Los modelos que dan el mejor rendimiento son el RandomForest y DesicionTree, por lo que tomarán estos dos para trabajar."
   ]
  },
  {
   "cell_type": "markdown",
   "id": "532e75a4",
   "metadata": {},
   "source": [
    "#### 5.2. Mejores hiperparámetros de los modelos seleccionados"
   ]
  },
  {
   "cell_type": "markdown",
   "id": "e312a6d0",
   "metadata": {},
   "source": [
    "Se usará la herramienta de la libreria Scikit-Learn que permite analizar diferentes hiperparámetros para un modelo con el fin de obtener la mejor selección de los mismos y obtener un modelo más robusto. Esta heramient utiliza una metodología de cross-validation y se le puede brindar un diccionario con diferentes valores para cada hiperparámetros y así hallar cual es la mejor opción."
   ]
  },
  {
   "cell_type": "code",
   "execution_count": 51,
   "id": "f45de545",
   "metadata": {},
   "outputs": [],
   "source": [
    "from sklearn.model_selection import GridSearchCV"
   ]
  },
  {
   "cell_type": "markdown",
   "id": "6ddddcac",
   "metadata": {},
   "source": [
    "##### 5.2.1. Desicion Tree"
   ]
  },
  {
   "cell_type": "code",
   "execution_count": 51,
   "id": "340e4e1a",
   "metadata": {},
   "outputs": [
    {
     "name": "stdout",
     "output_type": "stream",
     "text": [
      "Fitting 5 folds for each of 5 candidates, totalling 25 fits\n"
     ]
    },
    {
     "data": {
      "text/plain": [
       "GridSearchCV(cv=ShuffleSplit(n_splits=5, random_state=None, test_size=0.4285714285714286,\n",
       "       train_size=None),\n",
       "             estimator=DecisionTreeRegressor(max_depth=5), n_jobs=-1,\n",
       "             param_grid={'max_depth': [2, 5, 8, 12, 15]},\n",
       "             return_train_score=True, scoring='neg_mean_squared_error',\n",
       "             verbose=1)"
      ]
     },
     "execution_count": 51,
     "metadata": {},
     "output_type": "execute_result"
    }
   ],
   "source": [
    "#Esta celda puede tomar un tiempo considerable en su ejecución\n",
    "parametros = {'max_depth': [2,5,8,12,15]}\n",
    "\n",
    "\n",
    "decission_tree = GridSearchCV(estimator = estimator2,\n",
    "                        param_grid = parametros,\n",
    "                        cv = ShuffleSplit(n_splits= 5, test_size=val_size), \n",
    "                        scoring = 'neg_mean_squared_error',\n",
    "                        verbose = 1,\n",
    "                        return_train_score = True,\n",
    "                        n_jobs = -1)\n",
    "\n",
    "decission_tree.fit(Xtv, ytv)"
   ]
  },
  {
   "cell_type": "code",
   "execution_count": 52,
   "id": "787b4386",
   "metadata": {},
   "outputs": [
    {
     "name": "stdout",
     "output_type": "stream",
     "text": [
      "Mejor estimador Decision Tree:  DecisionTreeRegressor(max_depth=15)\n",
      "Mejores parámetros para el estimador Decision Tree:  {'max_depth': 15}\n"
     ]
    }
   ],
   "source": [
    "print(\"Mejor estimador Decision Tree: \",decission_tree.best_estimator_)\n",
    "print(\"Mejores parámetros para el estimador Decision Tree: \", decission_tree.best_params_)"
   ]
  },
  {
   "cell_type": "markdown",
   "id": "1ca29f35",
   "metadata": {},
   "source": [
    "###### Implementación del mejor Decision Tree"
   ]
  },
  {
   "cell_type": "code",
   "execution_count": 54,
   "id": "7fd92800",
   "metadata": {},
   "outputs": [
    {
     "data": {
      "text/plain": [
       "DecisionTreeRegressor(max_depth=15)"
      ]
     },
     "execution_count": 54,
     "metadata": {},
     "output_type": "execute_result"
    }
   ],
   "source": [
    "Des_tree = DecisionTreeRegressor(max_depth=15)\n",
    "Des_tree.fit(Xtv, ytv)"
   ]
  },
  {
   "cell_type": "code",
   "execution_count": 55,
   "id": "68a67457",
   "metadata": {},
   "outputs": [
    {
     "name": "stdout",
     "output_type": "stream",
     "text": [
      "RMSLE del Decision Tree en entrenamiento:  0.67479\n",
      "RMSLE del Decision Tree seleccionado:  0.67531\n"
     ]
    }
   ],
   "source": [
    "#Desempeño del modelo Desicion Tree seleccionado\n",
    "\n",
    "print('RMSLE del Decision Tree en entrenamiento: ',\"{:.5f}\".format(RMSLE((ytv) , (Des_tree.predict(Xtv)))))\n",
    "print('RMSLE del Decision Tree seleccionado: ',\"{:.5f}\".format(RMSLE(yts , Des_tree.predict(Xts))))"
   ]
  },
  {
   "cell_type": "code",
   "execution_count": null,
   "id": "2fe1016f",
   "metadata": {},
   "outputs": [],
   "source": []
  },
  {
   "cell_type": "markdown",
   "id": "cb48c68d",
   "metadata": {},
   "source": [
    "##### 5.2.2. Random Forest"
   ]
  },
  {
   "cell_type": "code",
   "execution_count": 56,
   "id": "82af05e3",
   "metadata": {},
   "outputs": [
    {
     "name": "stdout",
     "output_type": "stream",
     "text": [
      "Fitting 5 folds for each of 9 candidates, totalling 45 fits\n"
     ]
    },
    {
     "data": {
      "text/plain": [
       "GridSearchCV(cv=ShuffleSplit(n_splits=5, random_state=None, test_size=0.4285714285714286,\n",
       "       train_size=None),\n",
       "             estimator=RandomForestRegressor(max_depth=5, n_estimators=2),\n",
       "             n_jobs=-1,\n",
       "             param_grid={'max_depth': [5, 7, 9], 'n_estimators': [5, 10, 15]},\n",
       "             return_train_score=True, scoring='neg_mean_squared_error',\n",
       "             verbose=1)"
      ]
     },
     "execution_count": 56,
     "metadata": {},
     "output_type": "execute_result"
    }
   ],
   "source": [
    "#Esta celda toma un tiempo considerable en completarse\n",
    "parametros = { 'n_estimators': [5,10,15],\n",
    "              'max_depth':[5,7,9]}\n",
    "\n",
    "forest_reg = GridSearchCV(estimator = estimator3,\n",
    "                        param_grid = parametros,\n",
    "                        cv = ShuffleSplit(n_splits= 5, test_size=val_size), \n",
    "                        scoring = 'neg_mean_squared_error',\n",
    "                        verbose = 1,\n",
    "                        return_train_score = True,\n",
    "                        n_jobs = -1)\n",
    "forest_reg.fit(Xtv, ytv)"
   ]
  },
  {
   "cell_type": "code",
   "execution_count": 57,
   "id": "41b086b0",
   "metadata": {},
   "outputs": [
    {
     "name": "stdout",
     "output_type": "stream",
     "text": [
      "Mejor estimador Random Forest:  RandomForestRegressor(max_depth=9, n_estimators=5)\n",
      "Mejores parámetros para el estimador Random Forest:  {'max_depth': 9, 'n_estimators': 5}\n"
     ]
    }
   ],
   "source": [
    "print(\"Mejor estimador Random Forest: \",forest_reg.best_estimator_)\n",
    "print(\"Mejores parámetros para el estimador Random Forest: \", forest_reg.best_params_)"
   ]
  },
  {
   "cell_type": "markdown",
   "id": "94db2fed",
   "metadata": {},
   "source": [
    "###### Implementación del mejor Random Forest"
   ]
  },
  {
   "cell_type": "code",
   "execution_count": 58,
   "id": "dd2ed621",
   "metadata": {},
   "outputs": [
    {
     "data": {
      "text/plain": [
       "RandomForestRegressor(max_depth=9, n_estimators=5)"
      ]
     },
     "execution_count": 58,
     "metadata": {},
     "output_type": "execute_result"
    }
   ],
   "source": [
    "Rdm_forest = RandomForestRegressor(n_estimators = 5,max_depth = 9)\n",
    "Rdm_forest.fit(Xtv, ytv)"
   ]
  },
  {
   "cell_type": "code",
   "execution_count": 59,
   "id": "5efb9c36",
   "metadata": {},
   "outputs": [
    {
     "name": "stdout",
     "output_type": "stream",
     "text": [
      "RMSLE del Random Forest en entrenamiento:  1.01675\n",
      "RMSLE del Random Forest seleccionado:  1.01695\n"
     ]
    }
   ],
   "source": [
    "#Desempeño del modelo Random Forest seleccionado\n",
    "\n",
    "print('RMSLE del Random Forest en entrenamiento: ',\"{:.5f}\".format(RMSLE((ytv) , (Rdm_forest.predict(Xtv)))))\n",
    "print('RMSLE del Random Forest seleccionado: ',\"{:.5f}\".format(RMSLE(yts , Rdm_forest.predict(Xts))))"
   ]
  },
  {
   "cell_type": "code",
   "execution_count": null,
   "id": "d11e82fe",
   "metadata": {},
   "outputs": [],
   "source": []
  },
  {
   "cell_type": "markdown",
   "id": "4f73e02d",
   "metadata": {},
   "source": [
    "## 6. Métodos no supervisados"
   ]
  },
  {
   "cell_type": "markdown",
   "id": "c94c24bc",
   "metadata": {},
   "source": [
    "#### 6.1. PCA"
   ]
  },
  {
   "cell_type": "code",
   "execution_count": 40,
   "id": "ff033f84",
   "metadata": {},
   "outputs": [
    {
     "data": {
      "text/html": [
       "<div>\n",
       "<style scoped>\n",
       "    .dataframe tbody tr th:only-of-type {\n",
       "        vertical-align: middle;\n",
       "    }\n",
       "\n",
       "    .dataframe tbody tr th {\n",
       "        vertical-align: top;\n",
       "    }\n",
       "\n",
       "    .dataframe thead th {\n",
       "        text-align: right;\n",
       "    }\n",
       "</style>\n",
       "<table border=\"1\" class=\"dataframe\">\n",
       "  <thead>\n",
       "    <tr style=\"text-align: right;\">\n",
       "      <th></th>\n",
       "      <th>building_id</th>\n",
       "      <th>meter</th>\n",
       "      <th>meter_reading</th>\n",
       "      <th>site_id</th>\n",
       "      <th>primary_use</th>\n",
       "      <th>square_feet</th>\n",
       "      <th>air_temperature</th>\n",
       "      <th>cloud_coverage</th>\n",
       "      <th>dew_temperature</th>\n",
       "      <th>precip_depth_1_hr</th>\n",
       "      <th>...</th>\n",
       "      <th>wind_direction</th>\n",
       "      <th>wind_speed</th>\n",
       "      <th>hour</th>\n",
       "      <th>day</th>\n",
       "      <th>dayofweek</th>\n",
       "      <th>dayofyear</th>\n",
       "      <th>month</th>\n",
       "      <th>year</th>\n",
       "      <th>season</th>\n",
       "      <th>isDayTime</th>\n",
       "    </tr>\n",
       "  </thead>\n",
       "  <tbody>\n",
       "    <tr>\n",
       "      <th>45</th>\n",
       "      <td>46</td>\n",
       "      <td>0</td>\n",
       "      <td>3.993413</td>\n",
       "      <td>0</td>\n",
       "      <td>11</td>\n",
       "      <td>9.110078</td>\n",
       "      <td>25.0</td>\n",
       "      <td>6.0</td>\n",
       "      <td>20.0</td>\n",
       "      <td>0.0</td>\n",
       "      <td>...</td>\n",
       "      <td>0.0</td>\n",
       "      <td>0.0</td>\n",
       "      <td>0</td>\n",
       "      <td>1</td>\n",
       "      <td>4</td>\n",
       "      <td>1</td>\n",
       "      <td>1</td>\n",
       "      <td>2016</td>\n",
       "      <td>3</td>\n",
       "      <td>0</td>\n",
       "    </tr>\n",
       "    <tr>\n",
       "      <th>72</th>\n",
       "      <td>74</td>\n",
       "      <td>0</td>\n",
       "      <td>3.784219</td>\n",
       "      <td>0</td>\n",
       "      <td>8</td>\n",
       "      <td>12.867830</td>\n",
       "      <td>25.0</td>\n",
       "      <td>6.0</td>\n",
       "      <td>20.0</td>\n",
       "      <td>0.0</td>\n",
       "      <td>...</td>\n",
       "      <td>0.0</td>\n",
       "      <td>0.0</td>\n",
       "      <td>0</td>\n",
       "      <td>1</td>\n",
       "      <td>4</td>\n",
       "      <td>1</td>\n",
       "      <td>1</td>\n",
       "      <td>2016</td>\n",
       "      <td>3</td>\n",
       "      <td>0</td>\n",
       "    </tr>\n",
       "    <tr>\n",
       "      <th>91</th>\n",
       "      <td>93</td>\n",
       "      <td>0</td>\n",
       "      <td>3.978196</td>\n",
       "      <td>0</td>\n",
       "      <td>6</td>\n",
       "      <td>10.415443</td>\n",
       "      <td>25.0</td>\n",
       "      <td>6.0</td>\n",
       "      <td>20.0</td>\n",
       "      <td>0.0</td>\n",
       "      <td>...</td>\n",
       "      <td>0.0</td>\n",
       "      <td>0.0</td>\n",
       "      <td>0</td>\n",
       "      <td>1</td>\n",
       "      <td>4</td>\n",
       "      <td>1</td>\n",
       "      <td>1</td>\n",
       "      <td>2016</td>\n",
       "      <td>3</td>\n",
       "      <td>0</td>\n",
       "    </tr>\n",
       "    <tr>\n",
       "      <th>103</th>\n",
       "      <td>105</td>\n",
       "      <td>0</td>\n",
       "      <td>3.190624</td>\n",
       "      <td>1</td>\n",
       "      <td>0</td>\n",
       "      <td>10.832181</td>\n",
       "      <td>3.8</td>\n",
       "      <td>0.0</td>\n",
       "      <td>2.4</td>\n",
       "      <td>0.0</td>\n",
       "      <td>...</td>\n",
       "      <td>240.0</td>\n",
       "      <td>3.1</td>\n",
       "      <td>0</td>\n",
       "      <td>1</td>\n",
       "      <td>4</td>\n",
       "      <td>1</td>\n",
       "      <td>1</td>\n",
       "      <td>2016</td>\n",
       "      <td>3</td>\n",
       "      <td>0</td>\n",
       "    </tr>\n",
       "    <tr>\n",
       "      <th>104</th>\n",
       "      <td>106</td>\n",
       "      <td>0</td>\n",
       "      <td>0.318163</td>\n",
       "      <td>1</td>\n",
       "      <td>0</td>\n",
       "      <td>8.589514</td>\n",
       "      <td>3.8</td>\n",
       "      <td>0.0</td>\n",
       "      <td>2.4</td>\n",
       "      <td>0.0</td>\n",
       "      <td>...</td>\n",
       "      <td>240.0</td>\n",
       "      <td>3.1</td>\n",
       "      <td>0</td>\n",
       "      <td>1</td>\n",
       "      <td>4</td>\n",
       "      <td>1</td>\n",
       "      <td>1</td>\n",
       "      <td>2016</td>\n",
       "      <td>3</td>\n",
       "      <td>0</td>\n",
       "    </tr>\n",
       "  </tbody>\n",
       "</table>\n",
       "<p>5 rows × 21 columns</p>\n",
       "</div>"
      ],
      "text/plain": [
       "     building_id  meter  meter_reading  site_id  primary_use  square_feet  \\\n",
       "45            46      0       3.993413        0           11     9.110078   \n",
       "72            74      0       3.784219        0            8    12.867830   \n",
       "91            93      0       3.978196        0            6    10.415443   \n",
       "103          105      0       3.190624        1            0    10.832181   \n",
       "104          106      0       0.318163        1            0     8.589514   \n",
       "\n",
       "     air_temperature  cloud_coverage  dew_temperature  precip_depth_1_hr  ...  \\\n",
       "45              25.0             6.0             20.0                0.0  ...   \n",
       "72              25.0             6.0             20.0                0.0  ...   \n",
       "91              25.0             6.0             20.0                0.0  ...   \n",
       "103              3.8             0.0              2.4                0.0  ...   \n",
       "104              3.8             0.0              2.4                0.0  ...   \n",
       "\n",
       "     wind_direction  wind_speed  hour  day  dayofweek  dayofyear  month  year  \\\n",
       "45              0.0         0.0     0    1          4          1      1  2016   \n",
       "72              0.0         0.0     0    1          4          1      1  2016   \n",
       "91              0.0         0.0     0    1          4          1      1  2016   \n",
       "103           240.0         3.1     0    1          4          1      1  2016   \n",
       "104           240.0         3.1     0    1          4          1      1  2016   \n",
       "\n",
       "     season  isDayTime  \n",
       "45        3          0  \n",
       "72        3          0  \n",
       "91        3          0  \n",
       "103       3          0  \n",
       "104       3          0  \n",
       "\n",
       "[5 rows x 21 columns]"
      ]
     },
     "execution_count": 40,
     "metadata": {},
     "output_type": "execute_result"
    }
   ],
   "source": [
    "train.head()"
   ]
  },
  {
   "cell_type": "code",
   "execution_count": 41,
   "id": "42e90b3d",
   "metadata": {},
   "outputs": [],
   "source": [
    "X = train.drop(['meter_reading'],axis = 1)\n",
    "y = train['meter_reading'].values"
   ]
  },
  {
   "cell_type": "code",
   "execution_count": 62,
   "id": "625bfdc9",
   "metadata": {},
   "outputs": [
    {
     "data": {
      "text/html": [
       "<div>\n",
       "<style scoped>\n",
       "    .dataframe tbody tr th:only-of-type {\n",
       "        vertical-align: middle;\n",
       "    }\n",
       "\n",
       "    .dataframe tbody tr th {\n",
       "        vertical-align: top;\n",
       "    }\n",
       "\n",
       "    .dataframe thead th {\n",
       "        text-align: right;\n",
       "    }\n",
       "</style>\n",
       "<table border=\"1\" class=\"dataframe\">\n",
       "  <thead>\n",
       "    <tr style=\"text-align: right;\">\n",
       "      <th></th>\n",
       "      <th>building_id</th>\n",
       "      <th>meter</th>\n",
       "      <th>site_id</th>\n",
       "      <th>primary_use</th>\n",
       "      <th>square_feet</th>\n",
       "      <th>air_temperature</th>\n",
       "      <th>cloud_coverage</th>\n",
       "      <th>dew_temperature</th>\n",
       "      <th>precip_depth_1_hr</th>\n",
       "      <th>sea_level_pressure</th>\n",
       "      <th>wind_direction</th>\n",
       "      <th>wind_speed</th>\n",
       "      <th>hour</th>\n",
       "      <th>day</th>\n",
       "      <th>dayofweek</th>\n",
       "      <th>dayofyear</th>\n",
       "      <th>month</th>\n",
       "      <th>year</th>\n",
       "      <th>season</th>\n",
       "      <th>isDayTime</th>\n",
       "    </tr>\n",
       "  </thead>\n",
       "  <tbody>\n",
       "    <tr>\n",
       "      <th>45</th>\n",
       "      <td>46</td>\n",
       "      <td>0</td>\n",
       "      <td>0</td>\n",
       "      <td>11</td>\n",
       "      <td>9.110078</td>\n",
       "      <td>25.0</td>\n",
       "      <td>6.0</td>\n",
       "      <td>20.0</td>\n",
       "      <td>0.0</td>\n",
       "      <td>1019.7</td>\n",
       "      <td>0.0</td>\n",
       "      <td>0.0</td>\n",
       "      <td>0</td>\n",
       "      <td>1</td>\n",
       "      <td>4</td>\n",
       "      <td>1</td>\n",
       "      <td>1</td>\n",
       "      <td>2016</td>\n",
       "      <td>3</td>\n",
       "      <td>0</td>\n",
       "    </tr>\n",
       "    <tr>\n",
       "      <th>72</th>\n",
       "      <td>74</td>\n",
       "      <td>0</td>\n",
       "      <td>0</td>\n",
       "      <td>8</td>\n",
       "      <td>12.867830</td>\n",
       "      <td>25.0</td>\n",
       "      <td>6.0</td>\n",
       "      <td>20.0</td>\n",
       "      <td>0.0</td>\n",
       "      <td>1019.7</td>\n",
       "      <td>0.0</td>\n",
       "      <td>0.0</td>\n",
       "      <td>0</td>\n",
       "      <td>1</td>\n",
       "      <td>4</td>\n",
       "      <td>1</td>\n",
       "      <td>1</td>\n",
       "      <td>2016</td>\n",
       "      <td>3</td>\n",
       "      <td>0</td>\n",
       "    </tr>\n",
       "    <tr>\n",
       "      <th>91</th>\n",
       "      <td>93</td>\n",
       "      <td>0</td>\n",
       "      <td>0</td>\n",
       "      <td>6</td>\n",
       "      <td>10.415443</td>\n",
       "      <td>25.0</td>\n",
       "      <td>6.0</td>\n",
       "      <td>20.0</td>\n",
       "      <td>0.0</td>\n",
       "      <td>1019.7</td>\n",
       "      <td>0.0</td>\n",
       "      <td>0.0</td>\n",
       "      <td>0</td>\n",
       "      <td>1</td>\n",
       "      <td>4</td>\n",
       "      <td>1</td>\n",
       "      <td>1</td>\n",
       "      <td>2016</td>\n",
       "      <td>3</td>\n",
       "      <td>0</td>\n",
       "    </tr>\n",
       "    <tr>\n",
       "      <th>103</th>\n",
       "      <td>105</td>\n",
       "      <td>0</td>\n",
       "      <td>1</td>\n",
       "      <td>0</td>\n",
       "      <td>10.832181</td>\n",
       "      <td>3.8</td>\n",
       "      <td>0.0</td>\n",
       "      <td>2.4</td>\n",
       "      <td>0.0</td>\n",
       "      <td>1020.9</td>\n",
       "      <td>240.0</td>\n",
       "      <td>3.1</td>\n",
       "      <td>0</td>\n",
       "      <td>1</td>\n",
       "      <td>4</td>\n",
       "      <td>1</td>\n",
       "      <td>1</td>\n",
       "      <td>2016</td>\n",
       "      <td>3</td>\n",
       "      <td>0</td>\n",
       "    </tr>\n",
       "    <tr>\n",
       "      <th>104</th>\n",
       "      <td>106</td>\n",
       "      <td>0</td>\n",
       "      <td>1</td>\n",
       "      <td>0</td>\n",
       "      <td>8.589514</td>\n",
       "      <td>3.8</td>\n",
       "      <td>0.0</td>\n",
       "      <td>2.4</td>\n",
       "      <td>0.0</td>\n",
       "      <td>1020.9</td>\n",
       "      <td>240.0</td>\n",
       "      <td>3.1</td>\n",
       "      <td>0</td>\n",
       "      <td>1</td>\n",
       "      <td>4</td>\n",
       "      <td>1</td>\n",
       "      <td>1</td>\n",
       "      <td>2016</td>\n",
       "      <td>3</td>\n",
       "      <td>0</td>\n",
       "    </tr>\n",
       "  </tbody>\n",
       "</table>\n",
       "</div>"
      ],
      "text/plain": [
       "     building_id  meter  site_id  primary_use  square_feet  air_temperature  \\\n",
       "45            46      0        0           11     9.110078             25.0   \n",
       "72            74      0        0            8    12.867830             25.0   \n",
       "91            93      0        0            6    10.415443             25.0   \n",
       "103          105      0        1            0    10.832181              3.8   \n",
       "104          106      0        1            0     8.589514              3.8   \n",
       "\n",
       "     cloud_coverage  dew_temperature  precip_depth_1_hr  sea_level_pressure  \\\n",
       "45              6.0             20.0                0.0              1019.7   \n",
       "72              6.0             20.0                0.0              1019.7   \n",
       "91              6.0             20.0                0.0              1019.7   \n",
       "103             0.0              2.4                0.0              1020.9   \n",
       "104             0.0              2.4                0.0              1020.9   \n",
       "\n",
       "     wind_direction  wind_speed  hour  day  dayofweek  dayofyear  month  year  \\\n",
       "45              0.0         0.0     0    1          4          1      1  2016   \n",
       "72              0.0         0.0     0    1          4          1      1  2016   \n",
       "91              0.0         0.0     0    1          4          1      1  2016   \n",
       "103           240.0         3.1     0    1          4          1      1  2016   \n",
       "104           240.0         3.1     0    1          4          1      1  2016   \n",
       "\n",
       "     season  isDayTime  \n",
       "45        3          0  \n",
       "72        3          0  \n",
       "91        3          0  \n",
       "103       3          0  \n",
       "104       3          0  "
      ]
     },
     "execution_count": 62,
     "metadata": {},
     "output_type": "execute_result"
    }
   ],
   "source": [
    "X.head()"
   ]
  },
  {
   "cell_type": "code",
   "execution_count": 47,
   "id": "837c2631",
   "metadata": {},
   "outputs": [
    {
     "name": "stdout",
     "output_type": "stream",
     "text": [
      "(12839486, 1) (5502638, 1)\n",
      "RMSLE del modelo con  1 elementos:  1.50058\n",
      "------------\n",
      "(12839486, 3) (5502638, 3)\n",
      "RMSLE del modelo con  3 elementos:  1.47617\n",
      "------------\n",
      "(12839486, 5) (5502638, 5)\n",
      "RMSLE del modelo con  5 elementos:  1.47514\n",
      "------------\n",
      "(12839486, 7) (5502638, 7)\n",
      "RMSLE del modelo con  7 elementos:  1.47516\n",
      "------------\n",
      "(12839486, 9) (5502638, 9)\n",
      "RMSLE del modelo con  9 elementos:  1.47559\n",
      "------------\n",
      "Mejor RMSLE:  1.47514   ; obtenido con  5  componentes para PCA\n"
     ]
    }
   ],
   "source": [
    "from sklearn.decomposition import PCA\n",
    "components = [1,3,5,7,9]\n",
    "test_size = 0.3\n",
    "val_size  = test_size/(1-test_size)\n",
    "perf = [] #desempeños de los modelos\n",
    "Rdm_forest = RandomForestRegressor(n_estimators = 5,max_depth = 9)\n",
    "for i in components:\n",
    "    pca = PCA(n_components = i)\n",
    "    X_t = pca.fit_transform(X)\n",
    "    \n",
    "    #Partición de datos\n",
    "    #Xtv, ytv son los datos que se usan para entrenar el modelo\n",
    "    #Xts, yts son los datos que se usan para probar el modelo (solo se usan para el testeo final de los modelos que se seleccionen)\n",
    "    Xtv, Xts, ytv, yts = train_test_split(X_t, y, test_size=test_size)\n",
    "    print (Xtv.shape, Xts.shape)\n",
    "    \n",
    "    Rdm_forest.fit(Xtv, ytv)\n",
    "    perf.append(RMSLE(yts , Rdm_forest.predict(Xts)))\n",
    "    print('RMSLE del modelo con ', i ,'elementos: ',\"{:.5f}\".format(RMSLE(yts , Rdm_forest.predict(Xts))))\n",
    "    print('------------')\n",
    "\n",
    "print('Mejor RMSLE: ',\"{:.5f}\".format(np.min(perf)),'  ; obtenido con ',components[np.argmin(perf)],' componentes para PCA')\n",
    "    "
   ]
  },
  {
   "cell_type": "code",
   "execution_count": 49,
   "id": "f2f06b62",
   "metadata": {},
   "outputs": [
    {
     "name": "stdout",
     "output_type": "stream",
     "text": [
      "(12839486, 5) (5502638, 5)\n"
     ]
    }
   ],
   "source": [
    "#MEJOR PCA\n",
    "pca = PCA(n_components = 5)\n",
    "X_t1 = pca.fit_transform(X)\n",
    "Xtv, Xts, ytv, yts = train_test_split(X_t1, y, test_size=test_size)\n",
    "print (Xtv.shape, Xts.shape)"
   ]
  },
  {
   "cell_type": "code",
   "execution_count": 52,
   "id": "6c7598fd",
   "metadata": {},
   "outputs": [
    {
     "name": "stdout",
     "output_type": "stream",
     "text": [
      "Fitting 5 folds for each of 9 candidates, totalling 45 fits\n"
     ]
    },
    {
     "data": {
      "text/plain": [
       "GridSearchCV(cv=ShuffleSplit(n_splits=5, random_state=None, test_size=0.4285714285714286,\n",
       "       train_size=None),\n",
       "             estimator=RandomForestRegressor(max_depth=5, n_estimators=2),\n",
       "             n_jobs=-1,\n",
       "             param_grid={'max_depth': [5, 7, 9], 'n_estimators': [5, 10, 15]},\n",
       "             return_train_score=True, scoring='neg_mean_squared_error',\n",
       "             verbose=1)"
      ]
     },
     "execution_count": 52,
     "metadata": {},
     "output_type": "execute_result"
    }
   ],
   "source": [
    "#Nota: Correr esta celda toma un tiempo considerable\n",
    "parametros = { 'n_estimators': [5,10,15],\n",
    "              'max_depth':[5,7,9]}\n",
    "\n",
    "forest_reg = GridSearchCV(estimator = estimator3,\n",
    "                        param_grid = parametros,\n",
    "                        cv = ShuffleSplit(n_splits= 5, test_size=val_size), \n",
    "                        scoring = 'neg_mean_squared_error',\n",
    "                        verbose = 1,\n",
    "                        return_train_score = True,\n",
    "                        n_jobs = -1)\n",
    "forest_reg.fit(Xtv, ytv)"
   ]
  },
  {
   "cell_type": "code",
   "execution_count": 53,
   "id": "0c93f2ec",
   "metadata": {},
   "outputs": [
    {
     "name": "stdout",
     "output_type": "stream",
     "text": [
      "Mejor estimador Random Forest:  RandomForestRegressor(max_depth=9, n_estimators=15)\n",
      "Mejores parámetros para el estimador Random Forest:  {'max_depth': 9, 'n_estimators': 15}\n"
     ]
    }
   ],
   "source": [
    "print(\"Mejor estimador Random Forest: \",forest_reg.best_estimator_)\n",
    "print(\"Mejores parámetros para el estimador Random Forest: \", forest_reg.best_params_)"
   ]
  },
  {
   "cell_type": "code",
   "execution_count": null,
   "id": "f29a6de4",
   "metadata": {},
   "outputs": [],
   "source": []
  },
  {
   "cell_type": "code",
   "execution_count": 54,
   "id": "7f2897e9",
   "metadata": {},
   "outputs": [
    {
     "name": "stdout",
     "output_type": "stream",
     "text": [
      "(12839486, 5) (5502638, 5)\n"
     ]
    },
    {
     "data": {
      "text/plain": [
       "RandomForestRegressor(max_depth=9, n_estimators=15)"
      ]
     },
     "execution_count": 54,
     "metadata": {},
     "output_type": "execute_result"
    }
   ],
   "source": [
    "#Mejor random forest para el PCA obtenido\n",
    "test_size = 0.3\n",
    "val_size  = test_size/(1-test_size)\n",
    "Xtv, Xts, ytv, yts = train_test_split(X_t1, y, test_size=test_size)\n",
    "print (Xtv.shape, Xts.shape)\n",
    "Rdm_forest = RandomForestRegressor(n_estimators = 15,max_depth = 9)\n",
    "Rdm_forest.fit(Xtv, ytv)"
   ]
  },
  {
   "cell_type": "code",
   "execution_count": 55,
   "id": "a121271e",
   "metadata": {},
   "outputs": [
    {
     "name": "stdout",
     "output_type": "stream",
     "text": [
      "RMSLE del Random Forest en entrenamiento:  1.47320\n",
      "RMSLE del Random Forest seleccionado:  1.47460\n"
     ]
    }
   ],
   "source": [
    "#Desempeño del modelo Random Forest seleccionado\n",
    "\n",
    "print('RMSLE del Random Forest en entrenamiento: ',\"{:.5f}\".format(RMSLE((ytv) , (Rdm_forest.predict(Xtv)))))\n",
    "print('RMSLE del Random Forest seleccionado: ',\"{:.5f}\".format(RMSLE(yts , Rdm_forest.predict(Xts))))"
   ]
  },
  {
   "cell_type": "code",
   "execution_count": null,
   "id": "2ead0a50",
   "metadata": {},
   "outputs": [],
   "source": []
  },
  {
   "cell_type": "markdown",
   "id": "4ec13311",
   "metadata": {},
   "source": [
    "#### 6.2. NMF"
   ]
  },
  {
   "cell_type": "markdown",
   "id": "2d09d740",
   "metadata": {},
   "source": [
    "Para aplicar este método debemos eliminar las variables que contengan valores negativos"
   ]
  },
  {
   "cell_type": "code",
   "execution_count": 56,
   "id": "6a2ce9f1",
   "metadata": {},
   "outputs": [],
   "source": [
    "X2 = X.drop(['precip_depth_1_hr','air_temperature','dew_temperature'],axis=1)"
   ]
  },
  {
   "cell_type": "code",
   "execution_count": 61,
   "id": "b012cd83",
   "metadata": {},
   "outputs": [
    {
     "name": "stdout",
     "output_type": "stream",
     "text": [
      "(12839486, 1) (5502638, 1)\n",
      "RMSLE del modelo con  1 elementos:  1.67997\n",
      "------------\n",
      "(12839486, 3) (5502638, 3)\n",
      "RMSLE del modelo con  3 elementos:  1.15361\n",
      "------------\n",
      "(12839486, 5) (5502638, 5)\n",
      "RMSLE del modelo con  5 elementos:  1.20726\n",
      "------------\n",
      "(12839486, 7) (5502638, 7)\n",
      "RMSLE del modelo con  7 elementos:  1.33038\n",
      "------------\n",
      "(12839486, 9) (5502638, 9)\n",
      "RMSLE del modelo con  9 elementos:  1.58510\n",
      "------------\n",
      "Mejor RMSLE:  1.15361   ; obtenido con  3  componentes para PCA\n"
     ]
    }
   ],
   "source": [
    "from sklearn.decomposition import NMF\n",
    "components = [1,3,5,7,9]\n",
    "test_size = 0.3\n",
    "val_size  = test_size/(1-test_size)\n",
    "perf = [] #desempeños de los modelos\n",
    "Des_tree = DecisionTreeRegressor(max_depth=15)\n",
    "for i in components:\n",
    "    nmf = NMF(n_components = i)\n",
    "    X_t = nmf.fit_transform(X2)\n",
    "    \n",
    "    #Partición de datos\n",
    "    #Xtv, ytv son los datos que se usan para entrenar el modelo\n",
    "    #Xts, yts son los datos que se usan para probar el modelo (solo se usan para el testeo final de los modelos que se seleccionen)\n",
    "    Xtv, Xts, ytv, yts = train_test_split(X_t, y, test_size=test_size)\n",
    "    print (Xtv.shape, Xts.shape)\n",
    "    \n",
    "    Des_tree.fit(Xtv, ytv)\n",
    "    perf.append(RMSLE(yts , Des_tree.predict(Xts)))\n",
    "    print('RMSLE del modelo con ', i ,'elementos: ',\"{:.5f}\".format(RMSLE(yts , Des_tree.predict(Xts))))\n",
    "    print('------------')\n",
    "\n",
    "print('Mejor RMSLE: ',\"{:.5f}\".format(np.min(perf)),'  ; obtenido con ',components[np.argmin(perf)],' componentes para PCA')"
   ]
  },
  {
   "cell_type": "code",
   "execution_count": 63,
   "id": "78c0b0be",
   "metadata": {},
   "outputs": [
    {
     "name": "stdout",
     "output_type": "stream",
     "text": [
      "(12839486, 3) (5502638, 3)\n"
     ]
    }
   ],
   "source": [
    "#MEJOR NMF\n",
    "nmf = NMF(n_components = 3)\n",
    "X_t2 = nmf.fit_transform(X2)\n",
    "Xtv, Xts, ytv, yts = train_test_split(X_t2, y, test_size=test_size)\n",
    "print (Xtv.shape, Xts.shape)"
   ]
  },
  {
   "cell_type": "code",
   "execution_count": 64,
   "id": "39a227dd",
   "metadata": {},
   "outputs": [
    {
     "name": "stdout",
     "output_type": "stream",
     "text": [
      "Fitting 5 folds for each of 5 candidates, totalling 25 fits\n"
     ]
    },
    {
     "data": {
      "text/plain": [
       "GridSearchCV(cv=ShuffleSplit(n_splits=5, random_state=None, test_size=0.4285714285714286,\n",
       "       train_size=None),\n",
       "             estimator=DecisionTreeRegressor(max_depth=5), n_jobs=-1,\n",
       "             param_grid={'max_depth': [2, 5, 8, 12, 15]},\n",
       "             return_train_score=True, scoring='neg_mean_squared_error',\n",
       "             verbose=1)"
      ]
     },
     "execution_count": 64,
     "metadata": {},
     "output_type": "execute_result"
    }
   ],
   "source": [
    "#Nota: esta celda requiere de gran tiempo para completarse\n",
    "parametros = {'max_depth': [2,5,8,12,15]}\n",
    "\n",
    "\n",
    "decission_tree = GridSearchCV(estimator = estimator2,\n",
    "                        param_grid = parametros,\n",
    "                        cv = ShuffleSplit(n_splits= 5, test_size=val_size), \n",
    "                        scoring = 'neg_mean_squared_error',\n",
    "                        verbose = 1,\n",
    "                        return_train_score = True,\n",
    "                        n_jobs = -1)\n",
    "\n",
    "decission_tree.fit(Xtv, ytv)"
   ]
  },
  {
   "cell_type": "code",
   "execution_count": 65,
   "id": "a0efaca9",
   "metadata": {},
   "outputs": [
    {
     "name": "stdout",
     "output_type": "stream",
     "text": [
      "Mejor estimador Decision Tree:  DecisionTreeRegressor(max_depth=15)\n",
      "Mejores parámetros para el estimador Decision Tree:  {'max_depth': 15}\n"
     ]
    }
   ],
   "source": [
    "print(\"Mejor estimador Decision Tree: \",decission_tree.best_estimator_)\n",
    "print(\"Mejores parámetros para el estimador Decision Tree: \", decission_tree.best_params_)"
   ]
  },
  {
   "cell_type": "code",
   "execution_count": 66,
   "id": "2226021d",
   "metadata": {},
   "outputs": [
    {
     "name": "stdout",
     "output_type": "stream",
     "text": [
      "(12839486, 3) (5502638, 3)\n"
     ]
    },
    {
     "data": {
      "text/plain": [
       "DecisionTreeRegressor(max_depth=15)"
      ]
     },
     "execution_count": 66,
     "metadata": {},
     "output_type": "execute_result"
    }
   ],
   "source": [
    "#Mejor Decision Tree para el NMF obtenido\n",
    "test_size = 0.3\n",
    "val_size  = test_size/(1-test_size)\n",
    "Xtv, Xts, ytv, yts = train_test_split(X_t2, y, test_size=test_size)\n",
    "print (Xtv.shape, Xts.shape)\n",
    "Des_tree = DecisionTreeRegressor(max_depth=15)\n",
    "Des_tree.fit(Xtv, ytv)"
   ]
  },
  {
   "cell_type": "code",
   "execution_count": 67,
   "id": "aa0749e3",
   "metadata": {},
   "outputs": [
    {
     "name": "stdout",
     "output_type": "stream",
     "text": [
      "RMSLE del Decision Tree en entrenamiento:  1.15107\n",
      "RMSLE del Decision Tree seleccionado:  1.15824\n"
     ]
    }
   ],
   "source": [
    "print('RMSLE del Decision Tree en entrenamiento: ',\"{:.5f}\".format(RMSLE((ytv) , (Des_tree.predict(Xtv)))))\n",
    "print('RMSLE del Decision Tree seleccionado: ',\"{:.5f}\".format(RMSLE(yts , Des_tree.predict(Xts))))"
   ]
  },
  {
   "cell_type": "code",
   "execution_count": null,
   "id": "36904d81",
   "metadata": {},
   "outputs": [],
   "source": []
  },
  {
   "cell_type": "markdown",
   "id": "4d278a38",
   "metadata": {},
   "source": [
    "## 7. Curvas de aprendizaje\n",
    "\n",
    "Usamos el módulo learnin_curve de sk.leanr.model_selection, mediante el cual al brindarle información de los tamaños del dataset, el tipo de estimador y el método de hacer los split para la metodología de cross-validation"
   ]
  },
  {
   "cell_type": "markdown",
   "id": "0051314e",
   "metadata": {},
   "source": [
    "#### 7.1. Métodos supervisados"
   ]
  },
  {
   "cell_type": "code",
   "execution_count": 69,
   "id": "205553f1",
   "metadata": {},
   "outputs": [],
   "source": [
    "X = train.drop(['meter_reading'],axis = 1)\n",
    "y = train['meter_reading'].values\n",
    "X = X.drop(['dayofyear','month','hour','dew_temperature','day','precip_depth_1_hr','air_temperature',\n",
    "                           'sea_level_pressure','wind_direction','dayofweek','wind_speed','cloud_coverage','year'],axis = 1)"
   ]
  },
  {
   "cell_type": "code",
   "execution_count": 70,
   "id": "bdd2debd",
   "metadata": {},
   "outputs": [
    {
     "name": "stdout",
     "output_type": "stream",
     "text": [
      "(18342124, 7) (18342124,)\n",
      "test size 0.30\n",
      "val size is 0.43 (relative to 0.70) \n",
      "(12839486, 7) (5502638, 7)\n"
     ]
    }
   ],
   "source": [
    "\n",
    "test_size = 0.3\n",
    "val_size  = test_size/(1-test_size) # Elementos de validación\n",
    "\n",
    "\n",
    "print (X.shape, y.shape)\n",
    "print (\"test size %.2f\"%test_size)\n",
    "print (\"val size is %.2f (relative to %.2f) \"%(val_size, 1-test_size))\n",
    "\n",
    "#Xtv, ytv son los datos que se usan para entrenar el modelo\n",
    "#Xts, yts son los datos que se usan para probar el modelo (solo se usan para el testeo final de los modelos que se seleccionen)\n",
    "Xtv, Xts, ytv, yts = train_test_split(X, y, test_size=test_size)\n",
    "print (Xtv.shape, Xts.shape)"
   ]
  },
  {
   "cell_type": "markdown",
   "id": "ccf4f63d",
   "metadata": {},
   "source": [
    "##### 7.1.1. Decision Tree"
   ]
  },
  {
   "cell_type": "code",
   "execution_count": 101,
   "id": "61bbb686",
   "metadata": {},
   "outputs": [],
   "source": [
    "Des_tree1 = DecisionTreeRegressor(max_depth=15)\n",
    "train_sizes, train_scores, valid_scores = learning_curve(Des_tree1, Xtv, ytv, train_sizes= [0.3, 0.5,0.7,0.9], \n",
    "                 scoring ='neg_root_mean_squared_error', cv = ShuffleSplit(n_splits=10, test_size=val_size))"
   ]
  },
  {
   "cell_type": "code",
   "execution_count": 114,
   "id": "d79f24e6",
   "metadata": {},
   "outputs": [
    {
     "data": {
      "text/plain": [
       "array([0.67136584, 0.670353  , 0.67150684, 0.67410453])"
      ]
     },
     "execution_count": 114,
     "metadata": {},
     "output_type": "execute_result"
    }
   ],
   "source": [
    "train_mean"
   ]
  },
  {
   "cell_type": "code",
   "execution_count": 116,
   "id": "d4d634bc",
   "metadata": {},
   "outputs": [
    {
     "data": {
      "text/plain": [
       "array([0.67389975, 0.67185945, 0.67244869, 0.67475607])"
      ]
     },
     "execution_count": 116,
     "metadata": {},
     "output_type": "execute_result"
    }
   ],
   "source": [
    "valid_mean"
   ]
  },
  {
   "cell_type": "code",
   "execution_count": 131,
   "id": "3df5fbeb",
   "metadata": {},
   "outputs": [
    {
     "data": {
      "image/png": "[encoded data removed]",
      "text/plain": [
       "<Figure size 360x360 with 1 Axes>"
      ]
     },
     "metadata": {
      "needs_background": "light"
     },
     "output_type": "display_data"
    }
   ],
   "source": [
    "train_scores = np.abs(train_scores)\n",
    "valid_scores = np.abs(valid_scores)\n",
    "\n",
    "train_mean = np.mean(train_scores, axis=1)\n",
    "train_std = np.std(train_scores, axis=1)\n",
    "\n",
    "valid_mean = np.mean(valid_scores, axis=1)\n",
    "valid_std = np.std(valid_scores, axis=1)\n",
    "\n",
    "plt.subplots(1, figsize=(5,5))\n",
    "plt.plot(train_sizes, train_mean, '--', color=\"r\",  label=\"Training score\")\n",
    "plt.plot(train_sizes, valid_mean, color=\"g\", label=\"Cross-validation score\")\n",
    "\n",
    "\n",
    "\n",
    "plt.grid()\n",
    "plt.title(\"Learning Curve\")\n",
    "plt.xlabel(\"Training Set Size\"), plt.ylabel(\"RMSLE\"), plt.legend(loc=\"best\")\n",
    "plt.tight_layout()\n",
    "plt.show()"
   ]
  },
  {
   "cell_type": "code",
   "execution_count": 45,
   "id": "80c251e0",
   "metadata": {},
   "outputs": [],
   "source": [
    "def lc_plot(estimator,X,y):\n",
    "    train_sizes, train_scores, valid_scores = learning_curve(estimator, X, y, train_sizes= [0.3, 0.5,0.7,0.9], \n",
    "                 scoring ='neg_root_mean_squared_error', cv = ShuffleSplit(n_splits=10, test_size=val_size))\n",
    "    \n",
    "    train_scores = np.abs(train_scores)\n",
    "    valid_scores = np.abs(valid_scores)\n",
    "\n",
    "    train_mean = np.mean(train_scores, axis=1)\n",
    "    train_std = np.std(train_scores, axis=1)\n",
    "\n",
    "    valid_mean = np.mean(valid_scores, axis=1)\n",
    "    valid_std = np.std(valid_scores, axis=1)\n",
    "\n",
    "    plt.subplots(1, figsize=(5,5))\n",
    "    plt.plot(train_sizes, train_mean, '--', color=\"r\",  label=\"Training score\")\n",
    "    plt.plot(train_sizes, valid_mean, color=\"g\", label=\"Cross-validation score\")\n",
    "\n",
    "\n",
    "\n",
    "    plt.grid()\n",
    "    plt.title(\"Learning Curve\")\n",
    "    plt.xlabel(\"Training Set Size\"), plt.ylabel(\"RMSLE\"), plt.legend(loc=\"best\")\n",
    "    plt.tight_layout()\n",
    "    plt.show()\n",
    "    return plt"
   ]
  },
  {
   "cell_type": "markdown",
   "id": "e47fcc2a",
   "metadata": {},
   "source": [
    "##### 7.1.2. Random Forest"
   ]
  },
  {
   "cell_type": "code",
   "execution_count": 134,
   "id": "360062f6",
   "metadata": {},
   "outputs": [],
   "source": [
    "Rdm_forest = RandomForestRegressor(n_estimators = 5,max_depth = 9)"
   ]
  },
  {
   "cell_type": "code",
   "execution_count": 135,
   "id": "2fe9ef5f",
   "metadata": {},
   "outputs": [
    {
     "data": {
      "image/png": "[encoded data removed]",
      "text/plain": [
       "<Figure size 360x360 with 1 Axes>"
      ]
     },
     "metadata": {
      "needs_background": "light"
     },
     "output_type": "display_data"
    },
    {
     "data": {
      "text/plain": [
       "<module 'matplotlib.pyplot' from 'C:\\\\Users\\\\danie\\\\anaconda3\\\\lib\\\\site-packages\\\\matplotlib\\\\pyplot.py'>"
      ]
     },
     "execution_count": 135,
     "metadata": {},
     "output_type": "execute_result"
    }
   ],
   "source": [
    "lc_plot(Rdm_forest,Xtv,ytv)"
   ]
  },
  {
   "cell_type": "markdown",
   "id": "d41a50fa",
   "metadata": {},
   "source": [
    "#### 7.2. Método no supervisado + Método supervisado"
   ]
  },
  {
   "cell_type": "markdown",
   "id": "9a5f3c03",
   "metadata": {},
   "source": [
    "##### 7.2.1. PCA + Random Forest"
   ]
  },
  {
   "cell_type": "code",
   "execution_count": 40,
   "id": "7f3f314a",
   "metadata": {},
   "outputs": [],
   "source": [
    "X = train.drop(['meter_reading'],axis = 1)\n",
    "y = train['meter_reading'].values\n"
   ]
  },
  {
   "cell_type": "code",
   "execution_count": 44,
   "id": "7c056871",
   "metadata": {},
   "outputs": [],
   "source": [
    "from sklearn.decomposition import PCA\n",
    "pca = PCA(n_components = 5)\n",
    "X_t1 = pca.fit_transform(X)\n",
    "test_size = 0.3\n",
    "val_size  = test_size/(1-test_size)\n",
    "Xtv, Xts, ytv, yts = train_test_split(X_t1, y, test_size=test_size)\n",
    "Rdm_forest = RandomForestRegressor(n_estimators = 15,max_depth = 9)"
   ]
  },
  {
   "cell_type": "code",
   "execution_count": 46,
   "id": "2a626b14",
   "metadata": {},
   "outputs": [
    {
     "data": {
      "image/png": "[encoded data removed]",
      "text/plain": [
       "<Figure size 360x360 with 1 Axes>"
      ]
     },
     "metadata": {
      "needs_background": "light"
     },
     "output_type": "display_data"
    },
    {
     "data": {
      "text/plain": [
       "<module 'matplotlib.pyplot' from 'C:\\\\Users\\\\danie\\\\anaconda3\\\\lib\\\\site-packages\\\\matplotlib\\\\pyplot.py'>"
      ]
     },
     "execution_count": 46,
     "metadata": {},
     "output_type": "execute_result"
    }
   ],
   "source": [
    "lc_plot(Rdm_forest,Xtv,ytv)"
   ]
  },
  {
   "cell_type": "markdown",
   "id": "bf041dbd",
   "metadata": {},
   "source": [
    "##### 7.2.2. NMF + Decision Tree"
   ]
  },
  {
   "cell_type": "code",
   "execution_count": 47,
   "id": "d5f08e3d",
   "metadata": {},
   "outputs": [],
   "source": [
    "X2 = X.drop(['precip_depth_1_hr','air_temperature','dew_temperature'],axis=1)"
   ]
  },
  {
   "cell_type": "code",
   "execution_count": 49,
   "id": "907b5c36",
   "metadata": {},
   "outputs": [],
   "source": [
    "from sklearn.decomposition import NMF\n",
    "nmf = NMF(n_components = 3)\n",
    "X_t2 = nmf.fit_transform(X2)\n",
    "test_size = 0.3\n",
    "val_size  = test_size/(1-test_size)\n",
    "Xtv, Xts, ytv, yts = train_test_split(X_t2, y, test_size=test_size)\n",
    "Des_tree = DecisionTreeRegressor(max_depth=15)"
   ]
  },
  {
   "cell_type": "code",
   "execution_count": 50,
   "id": "7054bb2d",
   "metadata": {},
   "outputs": [
    {
     "data": {
      "image/png": "[encoded data removed]",
      "text/plain": [
       "<Figure size 360x360 with 1 Axes>"
      ]
     },
     "metadata": {
      "needs_background": "light"
     },
     "output_type": "display_data"
    },
    {
     "data": {
      "text/plain": [
       "<module 'matplotlib.pyplot' from 'C:\\\\Users\\\\danie\\\\anaconda3\\\\lib\\\\site-packages\\\\matplotlib\\\\pyplot.py'>"
      ]
     },
     "execution_count": 50,
     "metadata": {},
     "output_type": "execute_result"
    }
   ],
   "source": [
    "lc_plot(Des_tree,Xtv,ytv)"
   ]
  }
 ],
 "metadata": {
  "kernelspec": {
   "display_name": "Python 3 (ipykernel)",
   "language": "python",
   "name": "python3"
  },
  "language_info": {
   "codemirror_mode": {
    "name": "ipython",
    "version": 3
   },
   "file_extension": ".py",
   "mimetype": "text/x-python",
   "name": "python",
   "nbconvert_exporter": "python",
   "pygments_lexer": "ipython3",
   "version": "3.9.7"
  }
 },
 "nbformat": 4,
 "nbformat_minor": 5
}
